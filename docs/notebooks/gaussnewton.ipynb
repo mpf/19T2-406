{
 "cells": [
  {
   "cell_type": "markdown",
   "metadata": {},
   "source": [
    "# Nonlinear least squares"
   ]
  },
  {
   "cell_type": "code",
   "execution_count": 10,
   "metadata": {},
   "outputs": [],
   "source": [
    "using Plots, ForwardDiff, LinearAlgebra, Statistics, Random"
   ]
  },
  {
   "cell_type": "code",
   "execution_count": 38,
   "metadata": {},
   "outputs": [],
   "source": [
    "function gn(r, A, x; maxits=10)\n",
    "    xk = copy(x)\n",
    "    for i = 1:maxits\n",
    "        rk = r(xk)\n",
    "        Ak = A(xk)\n",
    "        bk = Ak*xk - rk\n",
    "        println(\"norm(rk) = $(norm(rk))\")\n",
    "        xk = Ak\\bk\n",
    "    end\n",
    "    return xk\n",
    "end;"
   ]
  },
  {
   "cell_type": "code",
   "execution_count": 39,
   "metadata": {},
   "outputs": [],
   "source": [
    "r(x) = [ ρ[i] - norm(x - b[:,i]) for i=1:m ]\n",
    "A(x) = ForwardDiff.jacobian(r,x);"
   ]
  },
  {
   "cell_type": "code",
   "execution_count": 44,
   "metadata": {},
   "outputs": [],
   "source": [
    "Random.seed!(0)\n",
    "m = 10\n",
    "b = randn(2,m)            # vector of beacon positions\n",
    "xt = mean(b,dims=2)[:]          # define true x position as the mean\n",
    "v = .5*randn(m)           # random error\n",
    "ρ = [ norm(xt - b[:,i]) + v[i] for i=1:m];"
   ]
  },
  {
   "cell_type": "code",
   "execution_count": 45,
   "metadata": {},
   "outputs": [
    {
     "name": "stdout",
     "output_type": "stream",
     "text": [
      "norm(rk) = 2.2039558927567353\n",
      "norm(rk) = 1.2132458006907558\n",
      "norm(rk) = 0.8658247489473625\n",
      "norm(rk) = 0.8387544826935561\n",
      "norm(rk) = 0.8350815128840761\n",
      "norm(rk) = 0.8348189449107599\n",
      "norm(rk) = 0.8348100189037863\n",
      "norm(rk) = 0.8348096669892942\n",
      "norm(rk) = 0.8348096530055291\n",
      "norm(rk) = 0.8348096524493043\n"
     ]
    },
    {
     "data": {
      "text/plain": [
       "2-element Array{Float64,1}:\n",
       "  0.0833564090452411 \n",
       " -0.02205062144156453"
      ]
     },
     "execution_count": 45,
     "metadata": {},
     "output_type": "execute_result"
    }
   ],
   "source": [
    "x0 = rand(2)\n",
    "x = gn(r, A, x0)"
   ]
  },
  {
   "cell_type": "code",
   "execution_count": 46,
   "metadata": {},
   "outputs": [
    {
     "data": {
      "image/svg+xml": [
       "<?xml version=\"1.0\" encoding=\"utf-8\"?>\n",
       "<svg xmlns=\"http://www.w3.org/2000/svg\" xmlns:xlink=\"http://www.w3.org/1999/xlink\" width=\"600\" height=\"400\" viewBox=\"0 0 2400 1600\">\n",
       "<defs>\n",
       "  <clipPath id=\"clip4900\">\n",
       "    <rect x=\"0\" y=\"0\" width=\"2400\" height=\"1600\"/>\n",
       "  </clipPath>\n",
       "</defs>\n",
       "<path clip-path=\"url(#clip4900)\" d=\"\n",
       "M0 1600 L2400 1600 L2400 0 L0 0  Z\n",
       "  \" fill=\"#ffffff\" fill-rule=\"evenodd\" fill-opacity=\"1\"/>\n",
       "<defs>\n",
       "  <clipPath id=\"clip4901\">\n",
       "    <rect x=\"480\" y=\"0\" width=\"1681\" height=\"1600\"/>\n",
       "  </clipPath>\n",
       "</defs>\n",
       "<path clip-path=\"url(#clip4900)\" d=\"\n",
       "M141.865 1487.47 L2352.76 1487.47 L2352.76 47.2441 L141.865 47.2441  Z\n",
       "  \" fill=\"#ffffff\" fill-rule=\"evenodd\" fill-opacity=\"1\"/>\n",
       "<defs>\n",
       "  <clipPath id=\"clip4902\">\n",
       "    <rect x=\"141\" y=\"47\" width=\"2212\" height=\"1441\"/>\n",
       "  </clipPath>\n",
       "</defs>\n",
       "<polyline clip-path=\"url(#clip4902)\" style=\"stroke:#000000; stroke-width:2; stroke-opacity:0.1; fill:none\" points=\"\n",
       "  530.583,1487.47 530.583,47.2441 \n",
       "  \"/>\n",
       "<polyline clip-path=\"url(#clip4902)\" style=\"stroke:#000000; stroke-width:2; stroke-opacity:0.1; fill:none\" points=\"\n",
       "  1067.66,1487.47 1067.66,47.2441 \n",
       "  \"/>\n",
       "<polyline clip-path=\"url(#clip4902)\" style=\"stroke:#000000; stroke-width:2; stroke-opacity:0.1; fill:none\" points=\"\n",
       "  1604.74,1487.47 1604.74,47.2441 \n",
       "  \"/>\n",
       "<polyline clip-path=\"url(#clip4902)\" style=\"stroke:#000000; stroke-width:2; stroke-opacity:0.1; fill:none\" points=\"\n",
       "  2141.82,1487.47 2141.82,47.2441 \n",
       "  \"/>\n",
       "<polyline clip-path=\"url(#clip4902)\" style=\"stroke:#000000; stroke-width:2; stroke-opacity:0.1; fill:none\" points=\"\n",
       "  141.865,1285.62 2352.76,1285.62 \n",
       "  \"/>\n",
       "<polyline clip-path=\"url(#clip4902)\" style=\"stroke:#000000; stroke-width:2; stroke-opacity:0.1; fill:none\" points=\"\n",
       "  141.865,950.56 2352.76,950.56 \n",
       "  \"/>\n",
       "<polyline clip-path=\"url(#clip4902)\" style=\"stroke:#000000; stroke-width:2; stroke-opacity:0.1; fill:none\" points=\"\n",
       "  141.865,615.5 2352.76,615.5 \n",
       "  \"/>\n",
       "<polyline clip-path=\"url(#clip4902)\" style=\"stroke:#000000; stroke-width:2; stroke-opacity:0.1; fill:none\" points=\"\n",
       "  141.865,280.44 2352.76,280.44 \n",
       "  \"/>\n",
       "<polyline clip-path=\"url(#clip4900)\" style=\"stroke:#000000; stroke-width:4; stroke-opacity:1; fill:none\" points=\"\n",
       "  141.865,1487.47 2352.76,1487.47 \n",
       "  \"/>\n",
       "<polyline clip-path=\"url(#clip4900)\" style=\"stroke:#000000; stroke-width:4; stroke-opacity:1; fill:none\" points=\"\n",
       "  141.865,1487.47 141.865,47.2441 \n",
       "  \"/>\n",
       "<polyline clip-path=\"url(#clip4900)\" style=\"stroke:#000000; stroke-width:4; stroke-opacity:1; fill:none\" points=\"\n",
       "  530.583,1487.47 530.583,1470.19 \n",
       "  \"/>\n",
       "<polyline clip-path=\"url(#clip4900)\" style=\"stroke:#000000; stroke-width:4; stroke-opacity:1; fill:none\" points=\"\n",
       "  1067.66,1487.47 1067.66,1470.19 \n",
       "  \"/>\n",
       "<polyline clip-path=\"url(#clip4900)\" style=\"stroke:#000000; stroke-width:4; stroke-opacity:1; fill:none\" points=\"\n",
       "  1604.74,1487.47 1604.74,1470.19 \n",
       "  \"/>\n",
       "<polyline clip-path=\"url(#clip4900)\" style=\"stroke:#000000; stroke-width:4; stroke-opacity:1; fill:none\" points=\"\n",
       "  2141.82,1487.47 2141.82,1470.19 \n",
       "  \"/>\n",
       "<polyline clip-path=\"url(#clip4900)\" style=\"stroke:#000000; stroke-width:4; stroke-opacity:1; fill:none\" points=\"\n",
       "  141.865,1285.62 168.395,1285.62 \n",
       "  \"/>\n",
       "<polyline clip-path=\"url(#clip4900)\" style=\"stroke:#000000; stroke-width:4; stroke-opacity:1; fill:none\" points=\"\n",
       "  141.865,950.56 168.395,950.56 \n",
       "  \"/>\n",
       "<polyline clip-path=\"url(#clip4900)\" style=\"stroke:#000000; stroke-width:4; stroke-opacity:1; fill:none\" points=\"\n",
       "  141.865,615.5 168.395,615.5 \n",
       "  \"/>\n",
       "<polyline clip-path=\"url(#clip4900)\" style=\"stroke:#000000; stroke-width:4; stroke-opacity:1; fill:none\" points=\"\n",
       "  141.865,280.44 168.395,280.44 \n",
       "  \"/>\n",
       "<g clip-path=\"url(#clip4900)\">\n",
       "<text style=\"fill:#000000; fill-opacity:1; font-family:Arial,Helvetica Neue,Helvetica,sans-serif; font-size:48px; text-anchor:middle;\" transform=\"rotate(0, 530.583, 1541.47)\" x=\"530.583\" y=\"1541.47\">-1</text>\n",
       "</g>\n",
       "<g clip-path=\"url(#clip4900)\">\n",
       "<text style=\"fill:#000000; fill-opacity:1; font-family:Arial,Helvetica Neue,Helvetica,sans-serif; font-size:48px; text-anchor:middle;\" transform=\"rotate(0, 1067.66, 1541.47)\" x=\"1067.66\" y=\"1541.47\">0</text>\n",
       "</g>\n",
       "<g clip-path=\"url(#clip4900)\">\n",
       "<text style=\"fill:#000000; fill-opacity:1; font-family:Arial,Helvetica Neue,Helvetica,sans-serif; font-size:48px; text-anchor:middle;\" transform=\"rotate(0, 1604.74, 1541.47)\" x=\"1604.74\" y=\"1541.47\">1</text>\n",
       "</g>\n",
       "<g clip-path=\"url(#clip4900)\">\n",
       "<text style=\"fill:#000000; fill-opacity:1; font-family:Arial,Helvetica Neue,Helvetica,sans-serif; font-size:48px; text-anchor:middle;\" transform=\"rotate(0, 2141.82, 1541.47)\" x=\"2141.82\" y=\"1541.47\">2</text>\n",
       "</g>\n",
       "<g clip-path=\"url(#clip4900)\">\n",
       "<text style=\"fill:#000000; fill-opacity:1; font-family:Arial,Helvetica Neue,Helvetica,sans-serif; font-size:48px; text-anchor:end;\" transform=\"rotate(0, 117.865, 1303.12)\" x=\"117.865\" y=\"1303.12\">-2</text>\n",
       "</g>\n",
       "<g clip-path=\"url(#clip4900)\">\n",
       "<text style=\"fill:#000000; fill-opacity:1; font-family:Arial,Helvetica Neue,Helvetica,sans-serif; font-size:48px; text-anchor:end;\" transform=\"rotate(0, 117.865, 968.06)\" x=\"117.865\" y=\"968.06\">-1</text>\n",
       "</g>\n",
       "<g clip-path=\"url(#clip4900)\">\n",
       "<text style=\"fill:#000000; fill-opacity:1; font-family:Arial,Helvetica Neue,Helvetica,sans-serif; font-size:48px; text-anchor:end;\" transform=\"rotate(0, 117.865, 633)\" x=\"117.865\" y=\"633\">0</text>\n",
       "</g>\n",
       "<g clip-path=\"url(#clip4900)\">\n",
       "<text style=\"fill:#000000; fill-opacity:1; font-family:Arial,Helvetica Neue,Helvetica,sans-serif; font-size:48px; text-anchor:end;\" transform=\"rotate(0, 117.865, 297.94)\" x=\"117.865\" y=\"297.94\">1</text>\n",
       "</g>\n",
       "<circle clip-path=\"url(#clip4902)\" style=\"fill:#000000; stroke:none; fill-opacity:1\" cx=\"1432.4\" cy=\"337.932\" r=\"21\"/>\n",
       "<circle clip-path=\"url(#clip4902)\" style=\"fill:#0000ff; stroke:none; fill-opacity:1\" cx=\"1432.4\" cy=\"337.932\" r=\"18\"/>\n",
       "<circle clip-path=\"url(#clip4902)\" style=\"fill:#000000; stroke:none; fill-opacity:1\" cx=\"878.07\" cy=\"660.684\" r=\"21\"/>\n",
       "<circle clip-path=\"url(#clip4902)\" style=\"fill:#0000ff; stroke:none; fill-opacity:1\" cx=\"878.07\" cy=\"660.684\" r=\"18\"/>\n",
       "<circle clip-path=\"url(#clip4902)\" style=\"fill:#000000; stroke:none; fill-opacity:1\" cx=\"1382.72\" cy=\"515.875\" r=\"21\"/>\n",
       "<circle clip-path=\"url(#clip4902)\" style=\"fill:#0000ff; stroke:none; fill-opacity:1\" cx=\"1382.72\" cy=\"515.875\" r=\"18\"/>\n",
       "<circle clip-path=\"url(#clip4902)\" style=\"fill:#000000; stroke:none; fill-opacity:1\" cx=\"1102.55\" cy=\"652.027\" r=\"21\"/>\n",
       "<circle clip-path=\"url(#clip4902)\" style=\"fill:#0000ff; stroke:none; fill-opacity:1\" cx=\"1102.55\" cy=\"652.027\" r=\"18\"/>\n",
       "<circle clip-path=\"url(#clip4902)\" style=\"fill:#000000; stroke:none; fill-opacity:1\" cx=\"791.491\" cy=\"88.0053\" r=\"21\"/>\n",
       "<circle clip-path=\"url(#clip4902)\" style=\"fill:#0000ff; stroke:none; fill-opacity:1\" cx=\"791.491\" cy=\"88.0053\" r=\"18\"/>\n",
       "<circle clip-path=\"url(#clip4902)\" style=\"fill:#000000; stroke:none; fill-opacity:1\" cx=\"697.664\" cy=\"871.085\" r=\"21\"/>\n",
       "<circle clip-path=\"url(#clip4902)\" style=\"fill:#0000ff; stroke:none; fill-opacity:1\" cx=\"697.664\" cy=\"871.085\" r=\"18\"/>\n",
       "<circle clip-path=\"url(#clip4902)\" style=\"fill:#000000; stroke:none; fill-opacity:1\" cx=\"1281.14\" cy=\"343.556\" r=\"21\"/>\n",
       "<circle clip-path=\"url(#clip4902)\" style=\"fill:#0000ff; stroke:none; fill-opacity:1\" cx=\"1281.14\" cy=\"343.556\" r=\"18\"/>\n",
       "<circle clip-path=\"url(#clip4902)\" style=\"fill:#000000; stroke:none; fill-opacity:1\" cx=\"881.643\" cy=\"678.348\" r=\"21\"/>\n",
       "<circle clip-path=\"url(#clip4902)\" style=\"fill:#0000ff; stroke:none; fill-opacity:1\" cx=\"881.643\" cy=\"678.348\" r=\"18\"/>\n",
       "<circle clip-path=\"url(#clip4902)\" style=\"fill:#000000; stroke:none; fill-opacity:1\" cx=\"204.437\" cy=\"1446.71\" r=\"21\"/>\n",
       "<circle clip-path=\"url(#clip4902)\" style=\"fill:#0000ff; stroke:none; fill-opacity:1\" cx=\"204.437\" cy=\"1446.71\" r=\"18\"/>\n",
       "<circle clip-path=\"url(#clip4902)\" style=\"fill:#000000; stroke:none; fill-opacity:1\" cx=\"2290.18\" cy=\"541.889\" r=\"21\"/>\n",
       "<circle clip-path=\"url(#clip4902)\" style=\"fill:#0000ff; stroke:none; fill-opacity:1\" cx=\"2290.18\" cy=\"541.889\" r=\"18\"/>\n",
       "<circle clip-path=\"url(#clip4902)\" style=\"fill:#000000; stroke:none; fill-opacity:1\" cx=\"1112.43\" cy=\"622.888\" r=\"21\"/>\n",
       "<circle clip-path=\"url(#clip4902)\" style=\"fill:#ffff00; stroke:none; fill-opacity:1\" cx=\"1112.43\" cy=\"622.888\" r=\"18\"/>\n",
       "<circle clip-path=\"url(#clip4902)\" style=\"fill:#000000; stroke:none; fill-opacity:1\" cx=\"1094.23\" cy=\"613.611\" r=\"21\"/>\n",
       "<circle clip-path=\"url(#clip4902)\" style=\"fill:#ff0000; stroke:none; fill-opacity:1\" cx=\"1094.23\" cy=\"613.611\" r=\"18\"/>\n",
       "<circle clip-path=\"url(#clip4902)\" style=\"fill:#000000; stroke:none; fill-opacity:1\" cx=\"1558.94\" cy=\"514.957\" r=\"21\"/>\n",
       "<circle clip-path=\"url(#clip4902)\" style=\"fill:#ffa500; stroke:none; fill-opacity:1\" cx=\"1558.94\" cy=\"514.957\" r=\"18\"/>\n",
       "<path clip-path=\"url(#clip4900)\" d=\"\n",
       "M1652.85 433.164 L2280.76 433.164 L2280.76 130.764 L1652.85 130.764  Z\n",
       "  \" fill=\"#ffffff\" fill-rule=\"evenodd\" fill-opacity=\"1\"/>\n",
       "<polyline clip-path=\"url(#clip4900)\" style=\"stroke:#000000; stroke-width:4; stroke-opacity:1; fill:none\" points=\"\n",
       "  1652.85,433.164 2280.76,433.164 2280.76,130.764 1652.85,130.764 1652.85,433.164 \n",
       "  \"/>\n",
       "<circle clip-path=\"url(#clip4900)\" style=\"fill:#000000; stroke:none; fill-opacity:1\" cx=\"1760.85\" cy=\"191.244\" r=\"25\"/>\n",
       "<circle clip-path=\"url(#clip4900)\" style=\"fill:#0000ff; stroke:none; fill-opacity:1\" cx=\"1760.85\" cy=\"191.244\" r=\"21\"/>\n",
       "<g clip-path=\"url(#clip4900)\">\n",
       "<text style=\"fill:#000000; fill-opacity:1; font-family:Arial,Helvetica Neue,Helvetica,sans-serif; font-size:48px; text-anchor:start;\" transform=\"rotate(0, 1844.85, 208.744)\" x=\"1844.85\" y=\"208.744\">beacons</text>\n",
       "</g>\n",
       "<circle clip-path=\"url(#clip4900)\" style=\"fill:#000000; stroke:none; fill-opacity:1\" cx=\"1760.85\" cy=\"251.724\" r=\"25\"/>\n",
       "<circle clip-path=\"url(#clip4900)\" style=\"fill:#ffff00; stroke:none; fill-opacity:1\" cx=\"1760.85\" cy=\"251.724\" r=\"21\"/>\n",
       "<g clip-path=\"url(#clip4900)\">\n",
       "<text style=\"fill:#000000; fill-opacity:1; font-family:Arial,Helvetica Neue,Helvetica,sans-serif; font-size:48px; text-anchor:start;\" transform=\"rotate(0, 1844.85, 269.224)\" x=\"1844.85\" y=\"269.224\">estimated location</text>\n",
       "</g>\n",
       "<circle clip-path=\"url(#clip4900)\" style=\"fill:#000000; stroke:none; fill-opacity:1\" cx=\"1760.85\" cy=\"312.204\" r=\"25\"/>\n",
       "<circle clip-path=\"url(#clip4900)\" style=\"fill:#ff0000; stroke:none; fill-opacity:1\" cx=\"1760.85\" cy=\"312.204\" r=\"21\"/>\n",
       "<g clip-path=\"url(#clip4900)\">\n",
       "<text style=\"fill:#000000; fill-opacity:1; font-family:Arial,Helvetica Neue,Helvetica,sans-serif; font-size:48px; text-anchor:start;\" transform=\"rotate(0, 1844.85, 329.704)\" x=\"1844.85\" y=\"329.704\">true Location</text>\n",
       "</g>\n",
       "<circle clip-path=\"url(#clip4900)\" style=\"fill:#000000; stroke:none; fill-opacity:1\" cx=\"1760.85\" cy=\"372.684\" r=\"25\"/>\n",
       "<circle clip-path=\"url(#clip4900)\" style=\"fill:#ffa500; stroke:none; fill-opacity:1\" cx=\"1760.85\" cy=\"372.684\" r=\"21\"/>\n",
       "<g clip-path=\"url(#clip4900)\">\n",
       "<text style=\"fill:#000000; fill-opacity:1; font-family:Arial,Helvetica Neue,Helvetica,sans-serif; font-size:48px; text-anchor:start;\" transform=\"rotate(0, 1844.85, 390.184)\" x=\"1844.85\" y=\"390.184\">initial loc</text>\n",
       "</g>\n",
       "</svg>\n"
      ]
     },
     "execution_count": 46,
     "metadata": {},
     "output_type": "execute_result"
    }
   ],
   "source": [
    "scatter(b[1,:],b[2,:],color=\"blue\", label = \"beacons\", ms = 5)\n",
    "scatter!([x[1]],[x[2]],color=\"yellow\", label = \"estimated location\", ms = 5)\n",
    "scatter!(xt[[1]],[xt[2]],color=\"red\", label = \"true Location\", ms = 5)\n",
    "scatter!(x0[[1]],[x0[2]],color=\"orange\", label = \"initial loc\", ms = 5)"
   ]
  },
  {
   "cell_type": "code",
   "execution_count": null,
   "metadata": {},
   "outputs": [],
   "source": []
  }
 ],
 "metadata": {
  "kernelspec": {
   "display_name": "Julia 1.3.1",
   "language": "julia",
   "name": "julia-1.3"
  },
  "language_info": {
   "file_extension": ".jl",
   "mimetype": "application/julia",
   "name": "julia",
   "version": "1.3.1"
  }
 },
 "nbformat": 4,
 "nbformat_minor": 2
}
