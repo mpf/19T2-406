{
 "cells": [
  {
   "cell_type": "markdown",
   "metadata": {},
   "source": [
    "## **Reduced gradient method**"
   ]
  },
  {
   "cell_type": "code",
   "execution_count": 1,
   "metadata": {},
   "outputs": [],
   "source": [
    "using Optim, ForwardDiff, LinearAlgebra"
   ]
  },
  {
   "cell_type": "markdown",
   "metadata": {},
   "source": [
    "The n-variable Rosenbrock test function is\n",
    "\n",
    "$$\n",
    "f(x) = \\sum_{i=1}^{N-1}[100(x_{i+1} - x_{i}^2)^2+(1-x_i)^2].\n",
    "$$\n",
    "\n",
    "Define the 3-variable Rosenbrock test function."
   ]
  },
  {
   "cell_type": "raw",
   "metadata": {},
   "source": [
    "N = 3;\n",
    "f3(x)= "
   ]
  },
  {
   "cell_type": "markdown",
   "metadata": {},
   "source": [
    "Compute its gradient and Hessian using automatic differentiation package."
   ]
  },
  {
   "cell_type": "raw",
   "metadata": {},
   "source": [
    "g(x) = \n",
    "H(x) = "
   ]
  },
  {
   "cell_type": "markdown",
   "metadata": {},
   "source": [
    "Verify that there is a minimizer at $x = (1,1,1)$"
   ]
  },
  {
   "cell_type": "raw",
   "metadata": {},
   "source": [
    "x = [1,1,1]"
   ]
  },
  {
   "cell_type": "markdown",
   "metadata": {},
   "source": [
    "The linear constraint is $x_1+x_2+x3 = 1$ and $2x_1+x_2 = 0.5$."
   ]
  },
  {
   "cell_type": "raw",
   "metadata": {},
   "source": [
    "a1 = ; b1 = \n",
    "a2 = ; b2 = \n",
    "A = ; b = ;"
   ]
  },
  {
   "cell_type": "markdown",
   "metadata": {},
   "source": [
    "Compute a basis for Null(A) and verify"
   ]
  },
  {
   "cell_type": "raw",
   "metadata": {},
   "source": [
    "Q, R = qr(A'); Z = reshape(Q[:,3],3,1);"
   ]
  },
  {
   "cell_type": "markdown",
   "metadata": {},
   "source": [
    "Obtain any particular solution"
   ]
  },
  {
   "cell_type": "raw",
   "metadata": {},
   "source": [
    "xbar ="
   ]
  },
  {
   "cell_type": "markdown",
   "metadata": {},
   "source": [
    "Define the reduced function and its gradients "
   ]
  },
  {
   "cell_type": "raw",
   "metadata": {},
   "source": [
    "fz(p) = \n",
    "gz(p) = "
   ]
  },
  {
   "cell_type": "markdown",
   "metadata": {},
   "source": [
    "minimize the unconstrained reduced problem."
   ]
  },
  {
   "cell_type": "raw",
   "metadata": {},
   "source": [
    "p0 = \n",
    "res = "
   ]
  },
  {
   "cell_type": "markdown",
   "metadata": {},
   "source": [
    "The minimizer is"
   ]
  },
  {
   "cell_type": "code",
   "execution_count": null,
   "metadata": {},
   "outputs": [],
   "source": []
  }
 ],
 "metadata": {
  "@webio": {
   "lastCommId": null,
   "lastKernelId": null
  },
  "kernelspec": {
   "display_name": "Julia 1.3.1",
   "language": "julia",
   "name": "julia-1.3"
  },
  "language_info": {
   "file_extension": ".jl",
   "mimetype": "application/julia",
   "name": "julia",
   "version": "1.3.1"
  }
 },
 "nbformat": 4,
 "nbformat_minor": 2
}
