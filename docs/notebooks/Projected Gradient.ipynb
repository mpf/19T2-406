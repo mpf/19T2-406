{
 "cells": [
  {
   "cell_type": "code",
   "execution_count": 1,
   "metadata": {},
   "outputs": [],
   "source": [
    "using Optim, ForwardDiff, LinearAlgebra"
   ]
  },
  {
   "cell_type": "markdown",
   "metadata": {},
   "source": [
    "The n-variable Rosenbrock test function is\n",
    "\n",
    "$$\n",
    "f(x) = \\sum_{i=1}^{N-1}[100(x_{i+1} - x_{i}^2)^2+(1-x_i)^2].\n",
    "$$\n",
    "\n",
    "Define the 3-variable Rosenbrock test function."
   ]
  },
  {
   "cell_type": "code",
   "execution_count": 2,
   "metadata": {},
   "outputs": [
    {
     "data": {
      "text/plain": [
       "f3 (generic function with 1 method)"
      ]
     },
     "execution_count": 2,
     "metadata": {},
     "output_type": "execute_result"
    }
   ],
   "source": [
    "N = 3;\n",
    "f3(x)= 100.0 * (x[2] - x[1]^2)^2 + (1-x[1])^2 + 100.0 * (x[3]-x[2]^2)^2+(1-x[2])^2"
   ]
  },
  {
   "cell_type": "code",
   "execution_count": 3,
   "metadata": {},
   "outputs": [
    {
     "data": {
      "text/plain": [
       "g (generic function with 1 method)"
      ]
     },
     "execution_count": 3,
     "metadata": {},
     "output_type": "execute_result"
    }
   ],
   "source": [
    "g(x) = ForwardDiff.gradient(f3, x)"
   ]
  },
  {
   "cell_type": "markdown",
   "metadata": {},
   "source": [
    "The linear constraint is $x_1+x_2+x3 = 1$ and $2x_1+x_2 = 0.5$."
   ]
  },
  {
   "cell_type": "code",
   "execution_count": 4,
   "metadata": {},
   "outputs": [],
   "source": [
    "a1 = ones(1,3) ; b1 = 1\n",
    "a2 = [2 1 0]; b2 = 0.5\n",
    "A = vcat(a1,a2); b = vcat(b1,b2);"
   ]
  },
  {
   "cell_type": "markdown",
   "metadata": {},
   "source": [
    "let $C = \\{x | Ax = b\\}$. Projection on to C is $\\text{proj}_{\\mathcal C} (z) = z - A^\\intercal(AA^\\intercal)^{-1}(b-Az)$"
   ]
  },
  {
   "cell_type": "code",
   "execution_count": 5,
   "metadata": {},
   "outputs": [
    {
     "data": {
      "text/plain": [
       "proj (generic function with 1 method)"
      ]
     },
     "execution_count": 5,
     "metadata": {},
     "output_type": "execute_result"
    }
   ],
   "source": [
    "proj(z) = z - A'* ( (A*A') \\ (A*z-b))"
   ]
  },
  {
   "cell_type": "code",
   "execution_count": 7,
   "metadata": {},
   "outputs": [
    {
     "data": {
      "text/plain": [
       "3-element Array{Float64,1}:\n",
       "  2.5807534821609233 \n",
       " -1.4531215368791206 \n",
       " -0.26941546619847434"
      ]
     },
     "execution_count": 7,
     "metadata": {},
     "output_type": "execute_result"
    }
   ],
   "source": [
    "proj(randn(3))"
   ]
  },
  {
   "cell_type": "code",
   "execution_count": 12,
   "metadata": {},
   "outputs": [
    {
     "name": "stdout",
     "output_type": "stream",
     "text": [
      "0.677003692752115\n",
      "0.6778179918104431\n",
      "0.6795764421996688\n",
      "0.6816256256097538\n",
      "0.6835903694244493\n",
      "0.685294926017946\n",
      "0.6866868578539358\n",
      "0.6877793717679072\n",
      "0.6886140964292244\n",
      "0.689240047323321\n",
      "0.6897033147629178\n",
      "0.6900430070743596\n",
      "0.6902904472263258\n",
      "0.6904698420110728\n",
      "0.6905994673090797\n",
      "0.6906929059546455\n",
      "0.6907601443271935\n",
      "0.6908084695581548\n",
      "0.6908431710763917\n",
      "0.6908680739426893\n",
      "0.6908859369344372\n",
      "0.6908987460360436\n",
      "0.6909079289936635\n",
      "0.6909145112448\n",
      "0.6909192287751781\n",
      "0.6909226095635591\n",
      "0.6909250322364391\n",
      "0.6909267682479024\n",
      "0.6909280121803633\n",
      "0.6909289034954766\n",
      "0.6909295421393636\n",
      "0.690929999734339\n",
      "0.6909303276031843\n",
      "0.6909305625212886\n",
      "0.6909307308394523\n",
      "0.690930851438579\n",
      "0.6909309378470656\n",
      "0.6909309997580853\n",
      "0.6909310441168076\n",
      "0.6909310758994319\n",
      "0.6909310986713825\n",
      "0.6909311149872636\n",
      "0.6909311266774301\n",
      "0.6909311350533166\n",
      "0.6909311410545539\n",
      "0.6909311453543786\n",
      "0.6909311484351587\n",
      "0.6909311506425058\n",
      "0.6909311522240469\n",
      "0.6909311533572046\n"
     ]
    }
   ],
   "source": [
    "xk = zeros(3);\n",
    "step = .001;\n",
    "for i in 1:50\n",
    "    xk = xk - step * g(xk);\n",
    "    xk = proj(xk)\n",
    "    println(norm(xk))\n",
    "end"
   ]
  },
  {
   "cell_type": "code",
   "execution_count": 13,
   "metadata": {},
   "outputs": [
    {
     "data": {
      "text/plain": [
       "3-element Array{Float64,1}:\n",
       " 0.02698246030521958\n",
       " 0.4460350793895609 \n",
       " 0.5269824603052196 "
      ]
     },
     "execution_count": 13,
     "metadata": {},
     "output_type": "execute_result"
    }
   ],
   "source": [
    "xk"
   ]
  },
  {
   "cell_type": "code",
   "execution_count": null,
   "metadata": {},
   "outputs": [],
   "source": []
  }
 ],
 "metadata": {
  "@webio": {
   "lastCommId": null,
   "lastKernelId": null
  },
  "kernelspec": {
   "display_name": "Julia 1.3.1",
   "language": "julia",
   "name": "julia-1.3"
  },
  "language_info": {
   "file_extension": ".jl",
   "mimetype": "application/julia",
   "name": "julia",
   "version": "1.3.1"
  }
 },
 "nbformat": 4,
 "nbformat_minor": 2
}
