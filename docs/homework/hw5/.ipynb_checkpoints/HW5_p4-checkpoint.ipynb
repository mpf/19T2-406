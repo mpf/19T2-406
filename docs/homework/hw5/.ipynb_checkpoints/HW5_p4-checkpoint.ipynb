{
 "cells": [
  {
   "cell_type": "code",
   "execution_count": 1,
   "metadata": {},
   "outputs": [],
   "source": [
    "using LinearAlgebra, Statistics, Random, Plots, GLPK, Convex"
   ]
  },
  {
   "cell_type": "markdown",
   "metadata": {},
   "source": [
    "Generate Data"
   ]
  },
  {
   "cell_type": "code",
   "execution_count": 2,
   "metadata": {},
   "outputs": [],
   "source": [
    "Random.seed!(1)\n",
    "m = 400\n",
    "n = 200\n",
    "A = randn(m,n)\n",
    "b = randn(m);"
   ]
  },
  {
   "cell_type": "markdown",
   "metadata": {},
   "source": [
    "Solve the least squares program\n",
    "\n",
    "$$ \\min_{x \\in \\mathbb{R}^n} \\|Ax-b\\|_2$$\n",
    "\n",
    "and plot the histogram of the residual. In histogram, set `bins = -3:.1:3`.\n"
   ]
  },
  {
   "cell_type": "code",
   "execution_count": null,
   "metadata": {},
   "outputs": [],
   "source": [
    "# Least squares\n",
    "\n",
    "# histogram plot\n",
    "\n"
   ]
  },
  {
   "cell_type": "markdown",
   "metadata": {},
   "source": [
    "Solve the 1-norm and $\\infty$-norm minimization program\n",
    "\n",
    "$$ \\min_{x \\in \\mathbb{R}^n} \\|Ax-b\\|_p,$$\n",
    "\n",
    "for $ p = 1$ or $2$, by rewriting it as a linear program\n",
    "\n",
    "$$ \\min_{z} c^\\top z \\text{ subject to } \\hat{A}z = \\hat{b}$$\n",
    "\n",
    "and then using the Convex.jl and GLPK.jl pacakages to solve the linear program. Note that $x$ and $z$ may not be of the same dimension. Like with least squares, plot the histogram of the residual with bin option set to `bins = -3:.1:3`."
   ]
  },
  {
   "cell_type": "code",
   "execution_count": null,
   "metadata": {},
   "outputs": [],
   "source": [
    "# 1-norm (sparse)\n",
    "z = Variable(?);\n",
    "c = [?];\n",
    "Ahat = [?];\n",
    "bhat = [?];\n",
    "\n",
    "problem = minimize(?, [?])\n",
    "\n",
    "solve!(problem, GLPK.Optimizer)\n",
    "\n",
    "res_l1 = ?\n",
    "\n",
    "# histogram plot\n",
    "\n",
    "histogram(res_l1, bins=-3:.1:3)\n"
   ]
  },
  {
   "cell_type": "code",
   "execution_count": null,
   "metadata": {},
   "outputs": [],
   "source": [
    "# inf-norm (robust)\n",
    "\n",
    "# histogram plot"
   ]
  }
 ],
 "metadata": {
  "kernelspec": {
   "display_name": "Julia 1.3.1",
   "language": "julia",
   "name": "julia-1.3"
  },
  "language_info": {
   "file_extension": ".jl",
   "mimetype": "application/julia",
   "name": "julia",
   "version": "1.3.1"
  }
 },
 "nbformat": 4,
 "nbformat_minor": 2
}
