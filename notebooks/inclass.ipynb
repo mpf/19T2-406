{
 "cells": [
  {
   "cell_type": "markdown",
   "metadata": {},
   "source": [
    "# Regularized linear least squares"
   ]
  },
  {
   "cell_type": "code",
   "execution_count": 47,
   "metadata": {},
   "outputs": [],
   "source": [
    "using Plots, Interact, LinearAlgebra"
   ]
  },
  {
   "cell_type": "code",
   "execution_count": 48,
   "metadata": {},
   "outputs": [],
   "source": [
    "n = 300\n",
    "t = LinRange(0,4,n)\n",
    "x = @. sin(t) + t*cos(t)^2;"
   ]
  },
  {
   "cell_type": "code",
   "execution_count": 49,
   "metadata": {},
   "outputs": [
    {
     "data": {
      "image/svg+xml": [
       "<?xml version=\"1.0\" encoding=\"utf-8\"?>\n",
       "<svg xmlns=\"http://www.w3.org/2000/svg\" xmlns:xlink=\"http://www.w3.org/1999/xlink\" width=\"600\" height=\"400\" viewBox=\"0 0 2400 1600\">\n",
       "<defs>\n",
       "  <clipPath id=\"clip7400\">\n",
       "    <rect x=\"0\" y=\"0\" width=\"2400\" height=\"1600\"/>\n",
       "  </clipPath>\n",
       "</defs>\n",
       "<path clip-path=\"url(#clip7400)\" d=\"\n",
       "M0 1600 L2400 1600 L2400 0 L0 0  Z\n",
       "  \" fill=\"#ffffff\" fill-rule=\"evenodd\" fill-opacity=\"1\"/>\n",
       "<defs>\n",
       "  <clipPath id=\"clip7401\">\n",
       "    <rect x=\"480\" y=\"0\" width=\"1681\" height=\"1600\"/>\n",
       "  </clipPath>\n",
       "</defs>\n",
       "<path clip-path=\"url(#clip7400)\" d=\"\n",
       "M113.754 1487.47 L2352.76 1487.47 L2352.76 47.2441 L113.754 47.2441  Z\n",
       "  \" fill=\"#ffffff\" fill-rule=\"evenodd\" fill-opacity=\"1\"/>\n",
       "<defs>\n",
       "  <clipPath id=\"clip7402\">\n",
       "    <rect x=\"113\" y=\"47\" width=\"2240\" height=\"1441\"/>\n",
       "  </clipPath>\n",
       "</defs>\n",
       "<polyline clip-path=\"url(#clip7402)\" style=\"stroke:#000000; stroke-width:2; stroke-opacity:0.1; fill:none\" points=\"\n",
       "  177.122,1487.47 177.122,47.2441 \n",
       "  \"/>\n",
       "<polyline clip-path=\"url(#clip7402)\" style=\"stroke:#000000; stroke-width:2; stroke-opacity:0.1; fill:none\" points=\"\n",
       "  705.189,1487.47 705.189,47.2441 \n",
       "  \"/>\n",
       "<polyline clip-path=\"url(#clip7402)\" style=\"stroke:#000000; stroke-width:2; stroke-opacity:0.1; fill:none\" points=\"\n",
       "  1233.26,1487.47 1233.26,47.2441 \n",
       "  \"/>\n",
       "<polyline clip-path=\"url(#clip7402)\" style=\"stroke:#000000; stroke-width:2; stroke-opacity:0.1; fill:none\" points=\"\n",
       "  1761.32,1487.47 1761.32,47.2441 \n",
       "  \"/>\n",
       "<polyline clip-path=\"url(#clip7402)\" style=\"stroke:#000000; stroke-width:2; stroke-opacity:0.1; fill:none\" points=\"\n",
       "  2289.39,1487.47 2289.39,47.2441 \n",
       "  \"/>\n",
       "<polyline clip-path=\"url(#clip7402)\" style=\"stroke:#000000; stroke-width:2; stroke-opacity:0.1; fill:none\" points=\"\n",
       "  113.754,1390.61 2352.76,1390.61 \n",
       "  \"/>\n",
       "<polyline clip-path=\"url(#clip7402)\" style=\"stroke:#000000; stroke-width:2; stroke-opacity:0.1; fill:none\" points=\"\n",
       "  113.754,1021.85 2352.76,1021.85 \n",
       "  \"/>\n",
       "<polyline clip-path=\"url(#clip7402)\" style=\"stroke:#000000; stroke-width:2; stroke-opacity:0.1; fill:none\" points=\"\n",
       "  113.754,653.086 2352.76,653.086 \n",
       "  \"/>\n",
       "<polyline clip-path=\"url(#clip7402)\" style=\"stroke:#000000; stroke-width:2; stroke-opacity:0.1; fill:none\" points=\"\n",
       "  113.754,284.325 2352.76,284.325 \n",
       "  \"/>\n",
       "<polyline clip-path=\"url(#clip7400)\" style=\"stroke:#000000; stroke-width:4; stroke-opacity:1; fill:none\" points=\"\n",
       "  113.754,1487.47 2352.76,1487.47 \n",
       "  \"/>\n",
       "<polyline clip-path=\"url(#clip7400)\" style=\"stroke:#000000; stroke-width:4; stroke-opacity:1; fill:none\" points=\"\n",
       "  113.754,1487.47 113.754,47.2441 \n",
       "  \"/>\n",
       "<polyline clip-path=\"url(#clip7400)\" style=\"stroke:#000000; stroke-width:4; stroke-opacity:1; fill:none\" points=\"\n",
       "  177.122,1487.47 177.122,1470.19 \n",
       "  \"/>\n",
       "<polyline clip-path=\"url(#clip7400)\" style=\"stroke:#000000; stroke-width:4; stroke-opacity:1; fill:none\" points=\"\n",
       "  705.189,1487.47 705.189,1470.19 \n",
       "  \"/>\n",
       "<polyline clip-path=\"url(#clip7400)\" style=\"stroke:#000000; stroke-width:4; stroke-opacity:1; fill:none\" points=\"\n",
       "  1233.26,1487.47 1233.26,1470.19 \n",
       "  \"/>\n",
       "<polyline clip-path=\"url(#clip7400)\" style=\"stroke:#000000; stroke-width:4; stroke-opacity:1; fill:none\" points=\"\n",
       "  1761.32,1487.47 1761.32,1470.19 \n",
       "  \"/>\n",
       "<polyline clip-path=\"url(#clip7400)\" style=\"stroke:#000000; stroke-width:4; stroke-opacity:1; fill:none\" points=\"\n",
       "  2289.39,1487.47 2289.39,1470.19 \n",
       "  \"/>\n",
       "<polyline clip-path=\"url(#clip7400)\" style=\"stroke:#000000; stroke-width:4; stroke-opacity:1; fill:none\" points=\"\n",
       "  113.754,1390.61 140.622,1390.61 \n",
       "  \"/>\n",
       "<polyline clip-path=\"url(#clip7400)\" style=\"stroke:#000000; stroke-width:4; stroke-opacity:1; fill:none\" points=\"\n",
       "  113.754,1021.85 140.622,1021.85 \n",
       "  \"/>\n",
       "<polyline clip-path=\"url(#clip7400)\" style=\"stroke:#000000; stroke-width:4; stroke-opacity:1; fill:none\" points=\"\n",
       "  113.754,653.086 140.622,653.086 \n",
       "  \"/>\n",
       "<polyline clip-path=\"url(#clip7400)\" style=\"stroke:#000000; stroke-width:4; stroke-opacity:1; fill:none\" points=\"\n",
       "  113.754,284.325 140.622,284.325 \n",
       "  \"/>\n",
       "<g clip-path=\"url(#clip7400)\">\n",
       "<text style=\"fill:#000000; fill-opacity:1; font-family:Arial,Helvetica Neue,Helvetica,sans-serif; font-size:48px; text-anchor:middle;\" transform=\"rotate(0, 177.122, 1541.47)\" x=\"177.122\" y=\"1541.47\">0</text>\n",
       "</g>\n",
       "<g clip-path=\"url(#clip7400)\">\n",
       "<text style=\"fill:#000000; fill-opacity:1; font-family:Arial,Helvetica Neue,Helvetica,sans-serif; font-size:48px; text-anchor:middle;\" transform=\"rotate(0, 705.189, 1541.47)\" x=\"705.189\" y=\"1541.47\">1</text>\n",
       "</g>\n",
       "<g clip-path=\"url(#clip7400)\">\n",
       "<text style=\"fill:#000000; fill-opacity:1; font-family:Arial,Helvetica Neue,Helvetica,sans-serif; font-size:48px; text-anchor:middle;\" transform=\"rotate(0, 1233.26, 1541.47)\" x=\"1233.26\" y=\"1541.47\">2</text>\n",
       "</g>\n",
       "<g clip-path=\"url(#clip7400)\">\n",
       "<text style=\"fill:#000000; fill-opacity:1; font-family:Arial,Helvetica Neue,Helvetica,sans-serif; font-size:48px; text-anchor:middle;\" transform=\"rotate(0, 1761.32, 1541.47)\" x=\"1761.32\" y=\"1541.47\">3</text>\n",
       "</g>\n",
       "<g clip-path=\"url(#clip7400)\">\n",
       "<text style=\"fill:#000000; fill-opacity:1; font-family:Arial,Helvetica Neue,Helvetica,sans-serif; font-size:48px; text-anchor:middle;\" transform=\"rotate(0, 2289.39, 1541.47)\" x=\"2289.39\" y=\"1541.47\">4</text>\n",
       "</g>\n",
       "<g clip-path=\"url(#clip7400)\">\n",
       "<text style=\"fill:#000000; fill-opacity:1; font-family:Arial,Helvetica Neue,Helvetica,sans-serif; font-size:48px; text-anchor:end;\" transform=\"rotate(0, 89.7545, 1408.11)\" x=\"89.7545\" y=\"1408.11\">0</text>\n",
       "</g>\n",
       "<g clip-path=\"url(#clip7400)\">\n",
       "<text style=\"fill:#000000; fill-opacity:1; font-family:Arial,Helvetica Neue,Helvetica,sans-serif; font-size:48px; text-anchor:end;\" transform=\"rotate(0, 89.7545, 1039.35)\" x=\"89.7545\" y=\"1039.35\">1</text>\n",
       "</g>\n",
       "<g clip-path=\"url(#clip7400)\">\n",
       "<text style=\"fill:#000000; fill-opacity:1; font-family:Arial,Helvetica Neue,Helvetica,sans-serif; font-size:48px; text-anchor:end;\" transform=\"rotate(0, 89.7545, 670.586)\" x=\"89.7545\" y=\"670.586\">2</text>\n",
       "</g>\n",
       "<g clip-path=\"url(#clip7400)\">\n",
       "<text style=\"fill:#000000; fill-opacity:1; font-family:Arial,Helvetica Neue,Helvetica,sans-serif; font-size:48px; text-anchor:end;\" transform=\"rotate(0, 89.7545, 301.825)\" x=\"89.7545\" y=\"301.825\">3</text>\n",
       "</g>\n",
       "<polyline clip-path=\"url(#clip7402)\" style=\"stroke:#009af9; stroke-width:8; stroke-opacity:1; fill:none\" points=\"\n",
       "  177.122,1308.44 184.187,1382.45 191.251,1408.49 198.316,1417.85 205.38,1309.12 212.445,1372.7 219.509,1446.71 226.573,1332.87 233.638,1279.64 240.702,1213.29 \n",
       "  247.767,1231.65 254.831,1228.56 261.896,1279.11 268.96,1202.41 276.024,1398.8 283.089,1285.28 290.153,1276.23 297.218,1175.26 304.282,1286.2 311.347,1229.96 \n",
       "  318.411,1290.01 325.476,1248.76 332.54,1163.68 339.604,1243.3 346.669,1167.99 353.733,1171.26 360.798,1101.9 367.862,1233.93 374.927,1104.37 381.991,1099.03 \n",
       "  389.055,1123.52 396.12,1023.07 403.184,1066.04 410.249,1040.22 417.313,1035.79 424.378,1084.25 431.442,1199.67 438.506,1117.35 445.571,1063.54 452.635,1061.95 \n",
       "  459.7,999.858 466.764,1075.1 473.829,1069.34 480.893,1067.01 487.957,1144.77 495.022,1081.98 502.086,1051.59 509.151,999.833 516.215,1052.27 523.28,1052.16 \n",
       "  530.344,820.545 537.409,1013.21 544.473,978.631 551.537,975.679 558.602,919.096 565.666,964.205 572.731,994.464 579.795,1009.07 586.86,1038.69 593.924,1028.73 \n",
       "  600.988,891.597 608.053,1001.01 615.117,1037.92 622.182,978.691 629.246,901.642 636.311,949.817 643.375,1041.27 650.439,1058.12 657.504,925.528 664.568,917.621 \n",
       "  671.633,1030.55 678.697,974.742 685.762,1063.89 692.826,1185.81 699.89,1004.27 706.955,1016.77 714.019,1100.13 721.084,974.214 728.148,992.342 735.213,865.603 \n",
       "  742.277,944.601 749.342,970.897 756.406,936.121 763.47,948.619 770.535,793.201 777.599,952.354 784.664,785.287 791.728,982.565 798.793,968.024 805.857,898.96 \n",
       "  812.921,935.199 819.986,954.196 827.05,958.279 834.115,956.302 841.179,961.713 848.244,1028.11 855.308,1002.21 862.372,981.65 869.437,905.363 876.501,959.154 \n",
       "  883.566,908.192 890.63,1006.08 897.695,975.231 904.759,964.781 911.823,1003.04 918.888,883.149 925.952,1079.43 933.017,891.984 940.081,940.907 947.146,998.856 \n",
       "  954.21,945.06 961.275,1016.79 968.339,973.748 975.403,1012.18 982.468,1032.37 989.532,1086.48 996.597,1043.69 1003.66,1076.74 1010.73,1028.17 1017.79,1101.21 \n",
       "  1024.85,1010.47 1031.92,1048.48 1038.98,946.47 1046.05,1037.87 1053.11,1005.97 1060.18,927.717 1067.24,978.456 1074.31,977.817 1081.37,1042.93 1088.43,1112.94 \n",
       "  1095.5,974.131 1102.56,999.892 1109.63,961.041 1116.69,974.982 1123.76,1075.89 1130.82,986.351 1137.89,1063.42 1144.95,1103.71 1152.01,935.82 1159.08,895.692 \n",
       "  1166.14,994.311 1173.21,1065.31 1180.27,1065.33 1187.34,957.483 1194.4,880.373 1201.47,858.212 1208.53,1013.11 1215.59,1025.36 1222.66,959.808 1229.72,939.321 \n",
       "  1236.79,950.082 1243.85,859.861 1250.92,873.595 1257.98,799.909 1265.05,913.066 1272.11,826.913 1279.17,874.839 1286.24,992.277 1293.3,932.971 1300.37,755.843 \n",
       "  1307.43,819.921 1314.5,895.633 1321.56,811.915 1328.63,808.89 1335.69,912.496 1342.75,791.655 1349.82,666.956 1356.88,846.995 1363.95,869.218 1371.01,709.392 \n",
       "  1378.08,695.671 1385.14,786.711 1392.2,711.514 1399.27,666.319 1406.33,655.812 1413.4,579.597 1420.46,712.918 1427.53,684.724 1434.59,769.206 1441.66,597.816 \n",
       "  1448.72,656.317 1455.78,666.282 1462.85,815.073 1469.91,677.933 1476.98,606.24 1484.04,588.361 1491.11,615.069 1498.17,621.118 1505.24,546.337 1512.3,614.185 \n",
       "  1519.36,584.796 1526.43,517.32 1533.49,563.762 1540.56,566.646 1547.62,525.778 1554.69,482.997 1561.75,509.277 1568.82,423.246 1575.88,442.713 1582.94,440.742 \n",
       "  1590.01,371.229 1597.07,441.962 1604.14,371.509 1611.2,532.651 1618.27,392.612 1625.33,385.97 1632.4,307.699 1639.46,506.101 1646.52,351.157 1653.59,354.3 \n",
       "  1660.65,415.322 1667.72,292.042 1674.78,382.29 1681.85,395.382 1688.91,251.132 1695.98,272.644 1703.04,338.221 1710.1,391.142 1717.17,322.899 1724.23,294.762 \n",
       "  1731.3,215.618 1738.36,228.21 1745.43,315.752 1752.49,183.377 1759.56,279.474 1766.62,193.741 1773.68,234.522 1780.75,235.043 1787.81,159.463 1794.88,313.004 \n",
       "  1801.94,334.248 1809.01,246.614 1816.07,151.504 1823.14,88.0053 1830.2,196.868 1837.26,231.645 1844.33,114.906 1851.39,271.774 1858.46,121.043 1865.52,179.204 \n",
       "  1872.59,205.168 1879.65,320.042 1886.72,224.782 1893.78,283.634 1900.84,285.304 1907.91,350.787 1914.97,330.513 1922.04,130.529 1929.1,241.134 1936.17,264.351 \n",
       "  1943.23,279.523 1950.3,353.439 1957.36,250.028 1964.42,285.377 1971.49,362.549 1978.55,396.618 1985.62,436.925 1992.68,452.856 1999.75,361.543 2006.81,369.836 \n",
       "  2013.88,369.648 2020.94,373.396 2028,357.183 2035.07,348.547 2042.13,363.579 2049.2,483.228 2056.26,553.087 2063.33,432.266 2070.39,427.919 2077.45,456.121 \n",
       "  2084.52,502.897 2091.58,599.542 2098.65,580.178 2105.71,696.893 2112.78,561.752 2119.84,536.672 2126.91,663.842 2133.97,639.62 2141.03,528.434 2148.1,648.525 \n",
       "  2155.16,565.938 2162.23,691.71 2169.29,722.033 2176.36,805.812 2183.42,704.67 2190.49,747.197 2197.55,834.011 2204.61,863.704 2211.68,835.384 2218.74,872.556 \n",
       "  2225.81,946.55 2232.87,898.94 2239.94,851.906 2247,974.885 2254.07,938.878 2261.13,882.66 2268.19,918.554 2275.26,984.967 2282.32,1078.46 2289.39,987.4 \n",
       "  \n",
       "  \"/>\n",
       "</svg>\n"
      ]
     },
     "execution_count": 49,
     "metadata": {},
     "output_type": "execute_result"
    }
   ],
   "source": [
    "η = randn(n); η = η/norm(η)\n",
    "b = x + 3*η\n",
    "plot(t, b, leg=false, w=2)"
   ]
  },
  {
   "cell_type": "code",
   "execution_count": 52,
   "metadata": {},
   "outputs": [
    {
     "data": {
      "text/plain": [
       "3×4 Array{Float64,2}:\n",
       " 1.0  -1.0   0.0   0.0\n",
       " 0.0   1.0  -1.0   0.0\n",
       " 0.0   0.0   1.0  -1.0"
      ]
     },
     "execution_count": 52,
     "metadata": {},
     "output_type": "execute_result"
    }
   ],
   "source": [
    "function finiteDiff(n)\n",
    "    D = diagm(ones(n)) - diagm(1 => ones(n-1))\n",
    "    return D[1:n-1,:]\n",
    "end\n",
    "finiteDiff(4)"
   ]
  },
  {
   "cell_type": "code",
   "execution_count": 54,
   "metadata": {},
   "outputs": [],
   "source": [
    "D = finiteDiff(n);"
   ]
  },
  {
   "cell_type": "code",
   "execution_count": 55,
   "metadata": {},
   "outputs": [
    {
     "data": {
      "application/vnd.webio.node+json": {
       "children": [
        {
         "children": [
          {
           "children": [
            {
             "children": [
              {
               "children": [
                {
                 "children": [
                  "γ"
                 ],
                 "instanceArgs": {
                  "namespace": "html",
                  "tag": "label"
                 },
                 "nodeType": "DOM",
                 "props": {
                  "className": "interact ",
                  "style": {
                   "padding": "5px 10px 0px 10px"
                  }
                 },
                 "type": "node"
                }
               ],
               "instanceArgs": {
                "namespace": "html",
                "tag": "div"
               },
               "nodeType": "DOM",
               "props": {
                "className": "interact-flex-row-left"
               },
               "type": "node"
              },
              {
               "children": [
                {
                 "children": [],
                 "instanceArgs": {
                  "namespace": "html",
                  "tag": "input"
                 },
                 "nodeType": "DOM",
                 "props": {
                  "attributes": {
                   "data-bind": "numericValue: index, valueUpdate: 'input', event: {change: function (){this.changes(this.changes()+1)}}",
                   "orient": "horizontal",
                   "type": "range"
                  },
                  "className": "slider slider is-fullwidth",
                  "max": 251,
                  "min": 1,
                  "step": 1,
                  "style": {}
                 },
                 "type": "node"
                }
               ],
               "instanceArgs": {
                "namespace": "html",
                "tag": "div"
               },
               "nodeType": "DOM",
               "props": {
                "className": "interact-flex-row-center"
               },
               "type": "node"
              },
              {
               "children": [
                {
                 "children": [],
                 "instanceArgs": {
                  "namespace": "html",
                  "tag": "p"
                 },
                 "nodeType": "DOM",
                 "props": {
                  "attributes": {
                   "data-bind": "text: formatted_val"
                  }
                 },
                 "type": "node"
                }
               ],
               "instanceArgs": {
                "namespace": "html",
                "tag": "div"
               },
               "nodeType": "DOM",
               "props": {
                "className": "interact-flex-row-right"
               },
               "type": "node"
              }
             ],
             "instanceArgs": {
              "namespace": "html",
              "tag": "div"
             },
             "nodeType": "DOM",
             "props": {
              "className": "interact-flex-row interact-widget"
             },
             "type": "node"
            }
           ],
           "instanceArgs": {
            "handlers": {
             "changes": [
              "(function (val){return (val!=this.model[\"changes\"]()) ? (this.valueFromJulia[\"changes\"]=true, this.model[\"changes\"](val)) : undefined})"
             ],
             "index": [
              "(function (val){return (val!=this.model[\"index\"]()) ? (this.valueFromJulia[\"index\"]=true, this.model[\"index\"](val)) : undefined})"
             ]
            },
            "id": "7300365863548515520",
            "imports": {
             "data": [
              {
               "name": "knockout",
               "type": "js",
               "url": "/assetserver/3f712825d914ad7ceb56bfee8c26f86f12ffa94d-knockout.js"
              },
              {
               "name": "knockout_punches",
               "type": "js",
               "url": "/assetserver/bb1b62fcbdf49c4be6ac0dad8b532b184373033e-knockout_punches.js"
              },
              {
               "name": null,
               "type": "js",
               "url": "/assetserver/19913531c8d53c38ae69c309e5652251bd73068b-all.js"
              },
              {
               "name": null,
               "type": "css",
               "url": "/assetserver/ebf4f6e27037f283781868b78a232c87484e6315-style.css"
              },
              {
               "name": null,
               "type": "css",
               "url": "/assetserver/f57d299ee23910e5dba49c495adcf216c311802c-bulma_confined.min.css"
              }
             ],
             "type": "async_block"
            },
            "mount_callbacks": [
             "function () {\n    var handler = (function (ko, koPunches) {\n    ko.punches.enableAll();\n    ko.bindingHandlers.numericValue = {\n        init: function(element, valueAccessor, allBindings, data, context) {\n            var stringified = ko.observable(ko.unwrap(valueAccessor()));\n            stringified.subscribe(function(value) {\n                var val = parseFloat(value);\n                if (!isNaN(val)) {\n                    valueAccessor()(val);\n                }\n            });\n            valueAccessor().subscribe(function(value) {\n                var str = JSON.stringify(value);\n                if ((str == \"0\") && ([\"-0\", \"-0.\"].indexOf(stringified()) >= 0))\n                     return;\n                 if ([\"null\", \"\"].indexOf(str) >= 0)\n                     return;\n                stringified(str);\n            });\n            ko.applyBindingsToNode(\n                element,\n                {\n                    value: stringified,\n                    valueUpdate: allBindings.get('valueUpdate'),\n                },\n                context,\n            );\n        }\n    };\n    var json_data = {\"formatted_vals\":[\"0\",\"1\",\"2\",\"3\",\"4\",\"5\",\"6\",\"7\",\"8\",\"9\",\"10\",\"11\",\"12\",\"13\",\"14\",\"15\",\"16\",\"17\",\"18\",\"19\",\"20\",\"21\",\"22\",\"23\",\"24\",\"25\",\"26\",\"27\",\"28\",\"29\",\"30\",\"31\",\"32\",\"33\",\"34\",\"35\",\"36\",\"37\",\"38\",\"39\",\"40\",\"41\",\"42\",\"43\",\"44\",\"45\",\"46\",\"47\",\"48\",\"49\",\"50\",\"51\",\"52\",\"53\",\"54\",\"55\",\"56\",\"57\",\"58\",\"59\",\"60\",\"61\",\"62\",\"63\",\"64\",\"65\",\"66\",\"67\",\"68\",\"69\",\"70\",\"71\",\"72\",\"73\",\"74\",\"75\",\"76\",\"77\",\"78\",\"79\",\"80\",\"81\",\"82\",\"83\",\"84\",\"85\",\"86\",\"87\",\"88\",\"89\",\"90\",\"91\",\"92\",\"93\",\"94\",\"95\",\"96\",\"97\",\"98\",\"99\",\"100\",\"101\",\"102\",\"103\",\"104\",\"105\",\"106\",\"107\",\"108\",\"109\",\"110\",\"111\",\"112\",\"113\",\"114\",\"115\",\"116\",\"117\",\"118\",\"119\",\"120\",\"121\",\"122\",\"123\",\"124\",\"125\",\"126\",\"127\",\"128\",\"129\",\"130\",\"131\",\"132\",\"133\",\"134\",\"135\",\"136\",\"137\",\"138\",\"139\",\"140\",\"141\",\"142\",\"143\",\"144\",\"145\",\"146\",\"147\",\"148\",\"149\",\"150\",\"151\",\"152\",\"153\",\"154\",\"155\",\"156\",\"157\",\"158\",\"159\",\"160\",\"161\",\"162\",\"163\",\"164\",\"165\",\"166\",\"167\",\"168\",\"169\",\"170\",\"171\",\"172\",\"173\",\"174\",\"175\",\"176\",\"177\",\"178\",\"179\",\"180\",\"181\",\"182\",\"183\",\"184\",\"185\",\"186\",\"187\",\"188\",\"189\",\"190\",\"191\",\"192\",\"193\",\"194\",\"195\",\"196\",\"197\",\"198\",\"199\",\"200\",\"201\",\"202\",\"203\",\"204\",\"205\",\"206\",\"207\",\"208\",\"209\",\"210\",\"211\",\"212\",\"213\",\"214\",\"215\",\"216\",\"217\",\"218\",\"219\",\"220\",\"221\",\"222\",\"223\",\"224\",\"225\",\"226\",\"227\",\"228\",\"229\",\"230\",\"231\",\"232\",\"233\",\"234\",\"235\",\"236\",\"237\",\"238\",\"239\",\"240\",\"241\",\"242\",\"243\",\"244\",\"245\",\"246\",\"247\",\"248\",\"249\",\"250\"],\"changes\":WebIO.getval({\"name\":\"changes\",\"scope\":\"7300365863548515520\",\"id\":\"ob_124\",\"type\":\"observable\"}),\"index\":WebIO.getval({\"name\":\"index\",\"scope\":\"7300365863548515520\",\"id\":\"ob_123\",\"type\":\"observable\"})};\n    var self = this;\n    function AppViewModel() {\n        for (var key in json_data) {\n            var el = json_data[key];\n            this[key] = Array.isArray(el) ? ko.observableArray(el) : ko.observable(el);\n        }\n        \n        [this[\"formatted_val\"]=ko.computed(    function(){\n        return this.formatted_vals()[parseInt(this.index())-(1)];\n    }\n,this)]\n        [this[\"changes\"].subscribe((function (val){!(this.valueFromJulia[\"changes\"]) ? (WebIO.setval({\"name\":\"changes\",\"scope\":\"7300365863548515520\",\"id\":\"ob_124\",\"type\":\"observable\"},val)) : undefined; return this.valueFromJulia[\"changes\"]=false}),self),this[\"index\"].subscribe((function (val){!(this.valueFromJulia[\"index\"]) ? (WebIO.setval({\"name\":\"index\",\"scope\":\"7300365863548515520\",\"id\":\"ob_123\",\"type\":\"observable\"},val)) : undefined; return this.valueFromJulia[\"index\"]=false}),self)]\n        \n    }\n    self.model = new AppViewModel();\n    self.valueFromJulia = {};\n    for (var key in json_data) {\n        self.valueFromJulia[key] = false;\n    }\n    ko.applyBindings(self.model, self.dom);\n}\n);\n    (WebIO.importBlock({\"data\":[{\"name\":\"knockout\",\"type\":\"js\",\"url\":\"/assetserver/3f712825d914ad7ceb56bfee8c26f86f12ffa94d-knockout.js\"},{\"name\":\"knockout_punches\",\"type\":\"js\",\"url\":\"/assetserver/bb1b62fcbdf49c4be6ac0dad8b532b184373033e-knockout_punches.js\"}],\"type\":\"async_block\"})).then((imports) => handler.apply(this, imports));\n}\n"
            ],
            "observables": {
             "changes": {
              "id": "ob_124",
              "sync": false,
              "value": 0
             },
             "index": {
              "id": "ob_123",
              "sync": true,
              "value": 126
             }
            },
            "systemjs_options": null
           },
           "nodeType": "Scope",
           "props": {},
           "type": "node"
          }
         ],
         "instanceArgs": {
          "namespace": "html",
          "tag": "div"
         },
         "nodeType": "DOM",
         "props": {
          "className": "field interact-widget"
         },
         "type": "node"
        },
        {
         "children": [
          {
           "children": [],
           "instanceArgs": {
            "id": "ob_130",
            "name": "obs-node"
           },
           "nodeType": "ObservableNode",
           "props": {},
           "type": "node"
          }
         ],
         "instanceArgs": {
          "handlers": {},
          "id": "18101408405693705012",
          "imports": {
           "data": [],
           "type": "async_block"
          },
          "mount_callbacks": [],
          "observables": {
           "obs-node": {
            "id": "ob_130",
            "sync": false,
            "value": {
             "children": [
              {
               "children": [],
               "instanceArgs": {
                "namespace": "html",
                "tag": "div"
               },
               "nodeType": "DOM",
               "props": {
                "setInnerHtml": "<?xml version=\"1.0\" encoding=\"utf-8\"?>\n<svg xmlns=\"http://www.w3.org/2000/svg\" xmlns:xlink=\"http://www.w3.org/1999/xlink\" width=\"600\" height=\"400\" viewBox=\"0 0 2400 1600\">\n<defs>\n  <clipPath id=\"clip8200\">\n    <rect x=\"0\" y=\"0\" width=\"2400\" height=\"1600\"/>\n  </clipPath>\n</defs>\n<path clip-path=\"url(#clip8200)\" d=\"\nM0 1600 L2400 1600 L2400 0 L0 0  Z\n  \" fill=\"#ffffff\" fill-rule=\"evenodd\" fill-opacity=\"1\"/>\n<defs>\n  <clipPath id=\"clip8201\">\n    <rect x=\"480\" y=\"0\" width=\"1681\" height=\"1600\"/>\n  </clipPath>\n</defs>\n<path clip-path=\"url(#clip8200)\" d=\"\nM113.754 1487.47 L2352.76 1487.47 L2352.76 47.2441 L113.754 47.2441  Z\n  \" fill=\"#ffffff\" fill-rule=\"evenodd\" fill-opacity=\"1\"/>\n<defs>\n  <clipPath id=\"clip8202\">\n    <rect x=\"113\" y=\"47\" width=\"2240\" height=\"1441\"/>\n  </clipPath>\n</defs>\n<polyline clip-path=\"url(#clip8202)\" style=\"stroke:#000000; stroke-width:2; stroke-opacity:0.1; fill:none\" points=\"\n  177.122,1487.47 177.122,47.2441 \n  \"/>\n<polyline clip-path=\"url(#clip8202)\" style=\"stroke:#000000; stroke-width:2; stroke-opacity:0.1; fill:none\" points=\"\n  705.189,1487.47 705.189,47.2441 \n  \"/>\n<polyline clip-path=\"url(#clip8202)\" style=\"stroke:#000000; stroke-width:2; stroke-opacity:0.1; fill:none\" points=\"\n  1233.26,1487.47 1233.26,47.2441 \n  \"/>\n<polyline clip-path=\"url(#clip8202)\" style=\"stroke:#000000; stroke-width:2; stroke-opacity:0.1; fill:none\" points=\"\n  1761.32,1487.47 1761.32,47.2441 \n  \"/>\n<polyline clip-path=\"url(#clip8202)\" style=\"stroke:#000000; stroke-width:2; stroke-opacity:0.1; fill:none\" points=\"\n  2289.39,1487.47 2289.39,47.2441 \n  \"/>\n<polyline clip-path=\"url(#clip8202)\" style=\"stroke:#000000; stroke-width:2; stroke-opacity:0.1; fill:none\" points=\"\n  113.754,1390.61 2352.76,1390.61 \n  \"/>\n<polyline clip-path=\"url(#clip8202)\" style=\"stroke:#000000; stroke-width:2; stroke-opacity:0.1; fill:none\" points=\"\n  113.754,1021.85 2352.76,1021.85 \n  \"/>\n<polyline clip-path=\"url(#clip8202)\" style=\"stroke:#000000; stroke-width:2; stroke-opacity:0.1; fill:none\" points=\"\n  113.754,653.086 2352.76,653.086 \n  \"/>\n<polyline clip-path=\"url(#clip8202)\" style=\"stroke:#000000; stroke-width:2; stroke-opacity:0.1; fill:none\" points=\"\n  113.754,284.325 2352.76,284.325 \n  \"/>\n<polyline clip-path=\"url(#clip8200)\" style=\"stroke:#000000; stroke-width:4; stroke-opacity:1; fill:none\" points=\"\n  113.754,1487.47 2352.76,1487.47 \n  \"/>\n<polyline clip-path=\"url(#clip8200)\" style=\"stroke:#000000; stroke-width:4; stroke-opacity:1; fill:none\" points=\"\n  113.754,1487.47 113.754,47.2441 \n  \"/>\n<polyline clip-path=\"url(#clip8200)\" style=\"stroke:#000000; stroke-width:4; stroke-opacity:1; fill:none\" points=\"\n  177.122,1487.47 177.122,1470.19 \n  \"/>\n<polyline clip-path=\"url(#clip8200)\" style=\"stroke:#000000; stroke-width:4; stroke-opacity:1; fill:none\" points=\"\n  705.189,1487.47 705.189,1470.19 \n  \"/>\n<polyline clip-path=\"url(#clip8200)\" style=\"stroke:#000000; stroke-width:4; stroke-opacity:1; fill:none\" points=\"\n  1233.26,1487.47 1233.26,1470.19 \n  \"/>\n<polyline clip-path=\"url(#clip8200)\" style=\"stroke:#000000; stroke-width:4; stroke-opacity:1; fill:none\" points=\"\n  1761.32,1487.47 1761.32,1470.19 \n  \"/>\n<polyline clip-path=\"url(#clip8200)\" style=\"stroke:#000000; stroke-width:4; stroke-opacity:1; fill:none\" points=\"\n  2289.39,1487.47 2289.39,1470.19 \n  \"/>\n<polyline clip-path=\"url(#clip8200)\" style=\"stroke:#000000; stroke-width:4; stroke-opacity:1; fill:none\" points=\"\n  113.754,1390.61 140.622,1390.61 \n  \"/>\n<polyline clip-path=\"url(#clip8200)\" style=\"stroke:#000000; stroke-width:4; stroke-opacity:1; fill:none\" points=\"\n  113.754,1021.85 140.622,1021.85 \n  \"/>\n<polyline clip-path=\"url(#clip8200)\" style=\"stroke:#000000; stroke-width:4; stroke-opacity:1; fill:none\" points=\"\n  113.754,653.086 140.622,653.086 \n  \"/>\n<polyline clip-path=\"url(#clip8200)\" style=\"stroke:#000000; stroke-width:4; stroke-opacity:1; fill:none\" points=\"\n  113.754,284.325 140.622,284.325 \n  \"/>\n<g clip-path=\"url(#clip8200)\">\n<text style=\"fill:#000000; fill-opacity:1; font-family:Arial,Helvetica Neue,Helvetica,sans-serif; font-size:48px; text-anchor:middle;\" transform=\"rotate(0, 177.122, 1541.47)\" x=\"177.122\" y=\"1541.47\">0</text>\n</g>\n<g clip-path=\"url(#clip8200)\">\n<text style=\"fill:#000000; fill-opacity:1; font-family:Arial,Helvetica Neue,Helvetica,sans-serif; font-size:48px; text-anchor:middle;\" transform=\"rotate(0, 705.189, 1541.47)\" x=\"705.189\" y=\"1541.47\">1</text>\n</g>\n<g clip-path=\"url(#clip8200)\">\n<text style=\"fill:#000000; fill-opacity:1; font-family:Arial,Helvetica Neue,Helvetica,sans-serif; font-size:48px; text-anchor:middle;\" transform=\"rotate(0, 1233.26, 1541.47)\" x=\"1233.26\" y=\"1541.47\">2</text>\n</g>\n<g clip-path=\"url(#clip8200)\">\n<text style=\"fill:#000000; fill-opacity:1; font-family:Arial,Helvetica Neue,Helvetica,sans-serif; font-size:48px; text-anchor:middle;\" transform=\"rotate(0, 1761.32, 1541.47)\" x=\"1761.32\" y=\"1541.47\">3</text>\n</g>\n<g clip-path=\"url(#clip8200)\">\n<text style=\"fill:#000000; fill-opacity:1; font-family:Arial,Helvetica Neue,Helvetica,sans-serif; font-size:48px; text-anchor:middle;\" transform=\"rotate(0, 2289.39, 1541.47)\" x=\"2289.39\" y=\"1541.47\">4</text>\n</g>\n<g clip-path=\"url(#clip8200)\">\n<text style=\"fill:#000000; fill-opacity:1; font-family:Arial,Helvetica Neue,Helvetica,sans-serif; font-size:48px; text-anchor:end;\" transform=\"rotate(0, 89.7545, 1408.11)\" x=\"89.7545\" y=\"1408.11\">0</text>\n</g>\n<g clip-path=\"url(#clip8200)\">\n<text style=\"fill:#000000; fill-opacity:1; font-family:Arial,Helvetica Neue,Helvetica,sans-serif; font-size:48px; text-anchor:end;\" transform=\"rotate(0, 89.7545, 1039.35)\" x=\"89.7545\" y=\"1039.35\">1</text>\n</g>\n<g clip-path=\"url(#clip8200)\">\n<text style=\"fill:#000000; fill-opacity:1; font-family:Arial,Helvetica Neue,Helvetica,sans-serif; font-size:48px; text-anchor:end;\" transform=\"rotate(0, 89.7545, 670.586)\" x=\"89.7545\" y=\"670.586\">2</text>\n</g>\n<g clip-path=\"url(#clip8200)\">\n<text style=\"fill:#000000; fill-opacity:1; font-family:Arial,Helvetica Neue,Helvetica,sans-serif; font-size:48px; text-anchor:end;\" transform=\"rotate(0, 89.7545, 301.825)\" x=\"89.7545\" y=\"301.825\">3</text>\n</g>\n<polyline clip-path=\"url(#clip8202)\" style=\"stroke:#009af9; stroke-width:8; stroke-opacity:1; fill:none\" points=\"\n  177.122,1308.44 184.187,1382.45 191.251,1408.49 198.316,1417.85 205.38,1309.12 212.445,1372.7 219.509,1446.71 226.573,1332.87 233.638,1279.64 240.702,1213.29 \n  247.767,1231.65 254.831,1228.56 261.896,1279.11 268.96,1202.41 276.024,1398.8 283.089,1285.28 290.153,1276.23 297.218,1175.26 304.282,1286.2 311.347,1229.96 \n  318.411,1290.01 325.476,1248.76 332.54,1163.68 339.604,1243.3 346.669,1167.99 353.733,1171.26 360.798,1101.9 367.862,1233.93 374.927,1104.37 381.991,1099.03 \n  389.055,1123.52 396.12,1023.07 403.184,1066.04 410.249,1040.22 417.313,1035.79 424.378,1084.25 431.442,1199.67 438.506,1117.35 445.571,1063.54 452.635,1061.95 \n  459.7,999.858 466.764,1075.1 473.829,1069.34 480.893,1067.01 487.957,1144.77 495.022,1081.98 502.086,1051.59 509.151,999.833 516.215,1052.27 523.28,1052.16 \n  530.344,820.545 537.409,1013.21 544.473,978.631 551.537,975.679 558.602,919.096 565.666,964.205 572.731,994.464 579.795,1009.07 586.86,1038.69 593.924,1028.73 \n  600.988,891.597 608.053,1001.01 615.117,1037.92 622.182,978.691 629.246,901.642 636.311,949.817 643.375,1041.27 650.439,1058.12 657.504,925.528 664.568,917.621 \n  671.633,1030.55 678.697,974.742 685.762,1063.89 692.826,1185.81 699.89,1004.27 706.955,1016.77 714.019,1100.13 721.084,974.214 728.148,992.342 735.213,865.603 \n  742.277,944.601 749.342,970.897 756.406,936.121 763.47,948.619 770.535,793.201 777.599,952.354 784.664,785.287 791.728,982.565 798.793,968.024 805.857,898.96 \n  812.921,935.199 819.986,954.196 827.05,958.279 834.115,956.302 841.179,961.713 848.244,1028.11 855.308,1002.21 862.372,981.65 869.437,905.363 876.501,959.154 \n  883.566,908.192 890.63,1006.08 897.695,975.231 904.759,964.781 911.823,1003.04 918.888,883.149 925.952,1079.43 933.017,891.984 940.081,940.907 947.146,998.856 \n  954.21,945.06 961.275,1016.79 968.339,973.748 975.403,1012.18 982.468,1032.37 989.532,1086.48 996.597,1043.69 1003.66,1076.74 1010.73,1028.17 1017.79,1101.21 \n  1024.85,1010.47 1031.92,1048.48 1038.98,946.47 1046.05,1037.87 1053.11,1005.97 1060.18,927.717 1067.24,978.456 1074.31,977.817 1081.37,1042.93 1088.43,1112.94 \n  1095.5,974.131 1102.56,999.892 1109.63,961.041 1116.69,974.982 1123.76,1075.89 1130.82,986.351 1137.89,1063.42 1144.95,1103.71 1152.01,935.82 1159.08,895.692 \n  1166.14,994.311 1173.21,1065.31 1180.27,1065.33 1187.34,957.483 1194.4,880.373 1201.47,858.212 1208.53,1013.11 1215.59,1025.36 1222.66,959.808 1229.72,939.321 \n  1236.79,950.082 1243.85,859.861 1250.92,873.595 1257.98,799.909 1265.05,913.066 1272.11,826.913 1279.17,874.839 1286.24,992.277 1293.3,932.971 1300.37,755.843 \n  1307.43,819.921 1314.5,895.633 1321.56,811.915 1328.63,808.89 1335.69,912.496 1342.75,791.655 1349.82,666.956 1356.88,846.995 1363.95,869.218 1371.01,709.392 \n  1378.08,695.671 1385.14,786.711 1392.2,711.514 1399.27,666.319 1406.33,655.812 1413.4,579.597 1420.46,712.918 1427.53,684.724 1434.59,769.206 1441.66,597.816 \n  1448.72,656.317 1455.78,666.282 1462.85,815.073 1469.91,677.933 1476.98,606.24 1484.04,588.361 1491.11,615.069 1498.17,621.118 1505.24,546.337 1512.3,614.185 \n  1519.36,584.796 1526.43,517.32 1533.49,563.762 1540.56,566.646 1547.62,525.778 1554.69,482.997 1561.75,509.277 1568.82,423.246 1575.88,442.713 1582.94,440.742 \n  1590.01,371.229 1597.07,441.962 1604.14,371.509 1611.2,532.651 1618.27,392.612 1625.33,385.97 1632.4,307.699 1639.46,506.101 1646.52,351.157 1653.59,354.3 \n  1660.65,415.322 1667.72,292.042 1674.78,382.29 1681.85,395.382 1688.91,251.132 1695.98,272.644 1703.04,338.221 1710.1,391.142 1717.17,322.899 1724.23,294.762 \n  1731.3,215.618 1738.36,228.21 1745.43,315.752 1752.49,183.377 1759.56,279.474 1766.62,193.741 1773.68,234.522 1780.75,235.043 1787.81,159.463 1794.88,313.004 \n  1801.94,334.248 1809.01,246.614 1816.07,151.504 1823.14,88.0053 1830.2,196.868 1837.26,231.645 1844.33,114.906 1851.39,271.774 1858.46,121.043 1865.52,179.204 \n  1872.59,205.168 1879.65,320.042 1886.72,224.782 1893.78,283.634 1900.84,285.304 1907.91,350.787 1914.97,330.513 1922.04,130.529 1929.1,241.134 1936.17,264.351 \n  1943.23,279.523 1950.3,353.439 1957.36,250.028 1964.42,285.377 1971.49,362.549 1978.55,396.618 1985.62,436.925 1992.68,452.856 1999.75,361.543 2006.81,369.836 \n  2013.88,369.648 2020.94,373.396 2028,357.183 2035.07,348.547 2042.13,363.579 2049.2,483.228 2056.26,553.087 2063.33,432.266 2070.39,427.919 2077.45,456.121 \n  2084.52,502.897 2091.58,599.542 2098.65,580.178 2105.71,696.893 2112.78,561.752 2119.84,536.672 2126.91,663.842 2133.97,639.62 2141.03,528.434 2148.1,648.525 \n  2155.16,565.938 2162.23,691.71 2169.29,722.033 2176.36,805.812 2183.42,704.67 2190.49,747.197 2197.55,834.011 2204.61,863.704 2211.68,835.384 2218.74,872.556 \n  2225.81,946.55 2232.87,898.94 2239.94,851.906 2247,974.885 2254.07,938.878 2261.13,882.66 2268.19,918.554 2275.26,984.967 2282.32,1078.46 2289.39,987.4 \n  \n  \"/>\n<polyline clip-path=\"url(#clip8202)\" style=\"stroke:#e26f46; stroke-width:8; stroke-opacity:1; fill:none\" points=\"\n  177.122,1294.82 184.187,1294.71 191.251,1293.9 198.316,1292.17 205.38,1289.44 212.445,1286.55 219.509,1282.97 226.573,1278.08 233.638,1272.75 240.702,1267.37 \n  247.767,1262.42 254.831,1257.71 261.896,1253.24 268.96,1248.56 276.024,1244.25 283.089,1238.71 290.153,1232.79 297.218,1226.52 304.282,1220.67 311.347,1214.29 \n  318.411,1207.78 325.476,1200.62 332.54,1193.07 339.604,1185.76 346.669,1177.99 353.733,1170.29 360.798,1162.59 367.862,1155.38 374.927,1147.53 381.991,1140.04 \n  389.055,1132.87 396.12,1125.77 403.184,1119.5 410.249,1113.65 417.313,1108.39 424.378,1103.71 431.442,1099.19 438.506,1093.86 445.571,1088.35 452.635,1083.03 \n  459.7,1077.89 466.764,1073.36 473.829,1068.83 480.893,1064.29 487.957,1059.72 495.022,1054.48 502.086,1049.02 509.151,1043.54 516.215,1038.4 523.28,1033.16 \n  530.344,1027.76 537.409,1024.02 544.473,1020.37 551.537,1017.05 558.602,1014.06 565.666,1011.84 572.731,1009.99 579.795,1008.27 586.86,1006.54 593.924,1004.55 \n  600.988,1002.37 608.053,1001.08 615.117,999.784 622.182,998.186 629.246,996.744 636.311,996.063 643.375,995.752 650.439,995.076 657.504,993.896 664.568,993.264 \n  671.633,993.236 678.697,992.91 685.762,992.729 692.826,991.978 699.89,989.678 706.955,987.26 714.019,984.606 721.084,981.028 728.148,977.505 735.213,973.863 \n  742.277,971.087 749.342,968.523 756.406,965.94 763.47,963.596 770.535,961.371 777.599,960.491 784.664,959.677 791.728,960.258 798.793,960.661 805.857,961.004 \n  812.921,961.844 819.986,962.897 827.05,964.02 834.115,965.188 841.179,966.428 848.244,967.705 855.308,968.499 862.372,969.024 869.437,969.447 876.501,970.383 \n  883.566,971.409 890.63,972.941 897.695,974.208 904.759,975.466 911.823,976.81 918.888,977.944 925.952,979.836 933.017,980.932 940.081,982.739 947.146,984.881 \n  954.21,986.911 961.275,989.276 968.339,991.421 975.403,993.708 982.468,995.846 989.532,997.692 996.597,998.828 1003.66,999.606 1010.73,999.766 1017.79,999.699 \n  1024.85,998.819 1031.92,997.847 1038.98,996.469 1046.05,995.492 1053.11,994.175 1060.18,992.764 1067.24,991.874 1074.31,991.09 1081.37,990.413 1088.43,989.316 \n  1095.5,987.23 1102.56,985.249 1109.63,983.15 1116.69,981.228 1123.76,979.357 1130.82,976.712 1137.89,973.991 1144.95,970.555 1152.01,966.053 1159.08,961.793 \n  1166.14,958.062 1173.21,954.041 1180.27,949.13 1187.34,943.289 1194.4,937.335 1201.47,931.836 1208.53,926.927 1215.59,921.327 1222.66,914.896 1229.72,908.105 \n  1236.79,901.065 1243.85,893.632 1250.92,886.47 1257.98,879.411 1265.05,872.987 1272.11,866.243 1279.17,859.814 1286.24,853.265 1293.3,845.603 1300.37,837.242 \n  1307.43,829.533 1314.5,821.901 1321.56,813.678 1328.63,805.47 1335.69,797.234 1342.75,788.077 1349.82,778.89 1356.88,770.6 1363.95,761.698 1371.01,751.935 \n  1378.08,742.514 1385.14,733.467 1392.2,723.994 1399.27,714.62 1406.33,705.634 1413.4,697.045 1420.46,689.397 1427.53,681.56 1434.59,673.698 1441.66,665.072 \n  1448.72,656.984 1455.78,648.901 1462.85,640.679 1469.91,631.062 1476.98,621.07 1484.04,611.197 1491.11,601.506 1498.17,591.707 1505.24,581.673 1512.3,571.921 \n  1519.36,561.831 1526.43,551.557 1533.49,541.558 1540.56,531.38 1547.62,520.921 1554.69,510.423 1561.75,500.144 1568.82,489.792 1575.88,479.972 1582.94,470.451 \n  1590.01,461.167 1597.07,452.603 1604.14,444.123 1611.2,436.225 1618.27,427.555 1625.33,419.165 1632.4,411.041 1639.46,403.743 1646.52,395.626 1653.59,387.865 \n  1660.65,380.373 1667.72,372.601 1674.78,365.473 1681.85,358.211 1688.91,350.652 1695.98,343.888 1703.04,337.695 1710.1,331.497 1717.17,324.823 1724.23,318.163 \n  1731.3,311.691 1738.36,305.988 1745.43,300.906 1752.49,295.706 1759.56,291.405 1766.62,287.199 1773.68,283.741 1780.75,280.676 1787.81,277.976 1794.88,276.225 \n  1801.94,274.179 1809.01,271.653 1816.07,269.327 1823.14,267.944 1830.2,268 1837.26,268.626 1844.33,269.547 1851.39,271.705 1858.46,273.863 1865.52,277.243 \n  1872.59,281.408 1879.65,286.182 1886.72,290.686 1893.78,295.717 1900.84,300.844 1907.91,306.096 1914.97,310.99 1922.04,315.728 1929.1,321.948 1936.17,328.814 \n  1943.23,336.196 1950.3,344.032 1957.36,351.792 1964.42,360.366 1971.49,369.54 1978.55,378.77 1985.62,387.857 1992.68,396.552 1999.75,404.796 2006.81,413.386 \n  2013.88,422.325 2020.94,431.685 2028,441.512 2035.07,452.013 2042.13,463.341 2049.2,475.468 2056.26,487.533 2063.33,499.073 2070.39,511.148 2077.45,523.889 \n  2084.52,537.172 2091.58,550.729 2098.65,563.895 2105.71,576.931 2112.78,589.008 2119.84,601.302 2126.91,614.114 2133.97,626.528 2141.03,638.837 2148.1,652.029 \n  2155.16,665.249 2162.23,679.264 2169.29,693.179 2176.36,706.864 2183.42,719.756 2190.49,732.77 2197.55,745.668 2204.61,757.859 2211.68,769.204 2218.74,780.019 \n  2225.81,790.094 2232.87,798.917 2239.94,806.94 2247,814.603 2254.07,820.984 2261.13,826.422 2268.19,831.41 2275.26,835.701 2282.32,838.798 2289.39,839.977 \n  \n  \"/>\n</svg>\n"
               },
               "type": "node"
              }
             ],
             "instanceArgs": {
              "namespace": "html",
              "tag": "div"
             },
             "nodeType": "DOM",
             "props": {
              "className": "interact-flex-row interact-widget"
             },
             "type": "node"
            }
           }
          },
          "systemjs_options": null
         },
         "nodeType": "Scope",
         "props": {},
         "type": "node"
        }
       ],
       "instanceArgs": {
        "namespace": "html",
        "tag": "div"
       },
       "nodeType": "DOM",
       "props": {},
       "type": "node"
      },
      "text/html": [
       "<div\n",
       "    class=\"webio-mountpoint\"\n",
       "    data-webio-mountpoint=\"3764126725069112817\"\n",
       ">\n",
       "    <script>\n",
       "    if (window.require && require.defined && require.defined(\"nbextensions/webio-jupyter-notebook\")) {\n",
       "        console.log(\"Jupyter WebIO extension detected, not mounting.\");\n",
       "    } else if (window.WebIO) {\n",
       "        WebIO.mount(\n",
       "            document.querySelector('[data-webio-mountpoint=\"3764126725069112817\"]'),\n",
       "            {\"props\":{},\"nodeType\":\"DOM\",\"type\":\"node\",\"instanceArgs\":{\"namespace\":\"html\",\"tag\":\"div\"},\"children\":[{\"props\":{\"className\":\"field interact-widget\"},\"nodeType\":\"DOM\",\"type\":\"node\",\"instanceArgs\":{\"namespace\":\"html\",\"tag\":\"div\"},\"children\":[{\"props\":{},\"nodeType\":\"Scope\",\"type\":\"node\",\"instanceArgs\":{\"imports\":{\"data\":[{\"name\":\"knockout\",\"type\":\"js\",\"url\":\"\\/assetserver\\/3f712825d914ad7ceb56bfee8c26f86f12ffa94d-knockout.js\"},{\"name\":\"knockout_punches\",\"type\":\"js\",\"url\":\"\\/assetserver\\/bb1b62fcbdf49c4be6ac0dad8b532b184373033e-knockout_punches.js\"},{\"name\":null,\"type\":\"js\",\"url\":\"\\/assetserver\\/19913531c8d53c38ae69c309e5652251bd73068b-all.js\"},{\"name\":null,\"type\":\"css\",\"url\":\"\\/assetserver\\/ebf4f6e27037f283781868b78a232c87484e6315-style.css\"},{\"name\":null,\"type\":\"css\",\"url\":\"\\/assetserver\\/f57d299ee23910e5dba49c495adcf216c311802c-bulma_confined.min.css\"}],\"type\":\"async_block\"},\"id\":\"7300365863548515520\",\"handlers\":{\"changes\":[\"(function (val){return (val!=this.model[\\\"changes\\\"]()) ? (this.valueFromJulia[\\\"changes\\\"]=true, this.model[\\\"changes\\\"](val)) : undefined})\"],\"index\":[\"(function (val){return (val!=this.model[\\\"index\\\"]()) ? (this.valueFromJulia[\\\"index\\\"]=true, this.model[\\\"index\\\"](val)) : undefined})\"]},\"systemjs_options\":null,\"mount_callbacks\":[\"function () {\\n    var handler = (function (ko, koPunches) {\\n    ko.punches.enableAll();\\n    ko.bindingHandlers.numericValue = {\\n        init: function(element, valueAccessor, allBindings, data, context) {\\n            var stringified = ko.observable(ko.unwrap(valueAccessor()));\\n            stringified.subscribe(function(value) {\\n                var val = parseFloat(value);\\n                if (!isNaN(val)) {\\n                    valueAccessor()(val);\\n                }\\n            });\\n            valueAccessor().subscribe(function(value) {\\n                var str = JSON.stringify(value);\\n                if ((str == \\\"0\\\") && ([\\\"-0\\\", \\\"-0.\\\"].indexOf(stringified()) >= 0))\\n                     return;\\n                 if ([\\\"null\\\", \\\"\\\"].indexOf(str) >= 0)\\n                     return;\\n                stringified(str);\\n            });\\n            ko.applyBindingsToNode(\\n                element,\\n                {\\n                    value: stringified,\\n                    valueUpdate: allBindings.get('valueUpdate'),\\n                },\\n                context,\\n            );\\n        }\\n    };\\n    var json_data = {\\\"formatted_vals\\\":[\\\"0\\\",\\\"1\\\",\\\"2\\\",\\\"3\\\",\\\"4\\\",\\\"5\\\",\\\"6\\\",\\\"7\\\",\\\"8\\\",\\\"9\\\",\\\"10\\\",\\\"11\\\",\\\"12\\\",\\\"13\\\",\\\"14\\\",\\\"15\\\",\\\"16\\\",\\\"17\\\",\\\"18\\\",\\\"19\\\",\\\"20\\\",\\\"21\\\",\\\"22\\\",\\\"23\\\",\\\"24\\\",\\\"25\\\",\\\"26\\\",\\\"27\\\",\\\"28\\\",\\\"29\\\",\\\"30\\\",\\\"31\\\",\\\"32\\\",\\\"33\\\",\\\"34\\\",\\\"35\\\",\\\"36\\\",\\\"37\\\",\\\"38\\\",\\\"39\\\",\\\"40\\\",\\\"41\\\",\\\"42\\\",\\\"43\\\",\\\"44\\\",\\\"45\\\",\\\"46\\\",\\\"47\\\",\\\"48\\\",\\\"49\\\",\\\"50\\\",\\\"51\\\",\\\"52\\\",\\\"53\\\",\\\"54\\\",\\\"55\\\",\\\"56\\\",\\\"57\\\",\\\"58\\\",\\\"59\\\",\\\"60\\\",\\\"61\\\",\\\"62\\\",\\\"63\\\",\\\"64\\\",\\\"65\\\",\\\"66\\\",\\\"67\\\",\\\"68\\\",\\\"69\\\",\\\"70\\\",\\\"71\\\",\\\"72\\\",\\\"73\\\",\\\"74\\\",\\\"75\\\",\\\"76\\\",\\\"77\\\",\\\"78\\\",\\\"79\\\",\\\"80\\\",\\\"81\\\",\\\"82\\\",\\\"83\\\",\\\"84\\\",\\\"85\\\",\\\"86\\\",\\\"87\\\",\\\"88\\\",\\\"89\\\",\\\"90\\\",\\\"91\\\",\\\"92\\\",\\\"93\\\",\\\"94\\\",\\\"95\\\",\\\"96\\\",\\\"97\\\",\\\"98\\\",\\\"99\\\",\\\"100\\\",\\\"101\\\",\\\"102\\\",\\\"103\\\",\\\"104\\\",\\\"105\\\",\\\"106\\\",\\\"107\\\",\\\"108\\\",\\\"109\\\",\\\"110\\\",\\\"111\\\",\\\"112\\\",\\\"113\\\",\\\"114\\\",\\\"115\\\",\\\"116\\\",\\\"117\\\",\\\"118\\\",\\\"119\\\",\\\"120\\\",\\\"121\\\",\\\"122\\\",\\\"123\\\",\\\"124\\\",\\\"125\\\",\\\"126\\\",\\\"127\\\",\\\"128\\\",\\\"129\\\",\\\"130\\\",\\\"131\\\",\\\"132\\\",\\\"133\\\",\\\"134\\\",\\\"135\\\",\\\"136\\\",\\\"137\\\",\\\"138\\\",\\\"139\\\",\\\"140\\\",\\\"141\\\",\\\"142\\\",\\\"143\\\",\\\"144\\\",\\\"145\\\",\\\"146\\\",\\\"147\\\",\\\"148\\\",\\\"149\\\",\\\"150\\\",\\\"151\\\",\\\"152\\\",\\\"153\\\",\\\"154\\\",\\\"155\\\",\\\"156\\\",\\\"157\\\",\\\"158\\\",\\\"159\\\",\\\"160\\\",\\\"161\\\",\\\"162\\\",\\\"163\\\",\\\"164\\\",\\\"165\\\",\\\"166\\\",\\\"167\\\",\\\"168\\\",\\\"169\\\",\\\"170\\\",\\\"171\\\",\\\"172\\\",\\\"173\\\",\\\"174\\\",\\\"175\\\",\\\"176\\\",\\\"177\\\",\\\"178\\\",\\\"179\\\",\\\"180\\\",\\\"181\\\",\\\"182\\\",\\\"183\\\",\\\"184\\\",\\\"185\\\",\\\"186\\\",\\\"187\\\",\\\"188\\\",\\\"189\\\",\\\"190\\\",\\\"191\\\",\\\"192\\\",\\\"193\\\",\\\"194\\\",\\\"195\\\",\\\"196\\\",\\\"197\\\",\\\"198\\\",\\\"199\\\",\\\"200\\\",\\\"201\\\",\\\"202\\\",\\\"203\\\",\\\"204\\\",\\\"205\\\",\\\"206\\\",\\\"207\\\",\\\"208\\\",\\\"209\\\",\\\"210\\\",\\\"211\\\",\\\"212\\\",\\\"213\\\",\\\"214\\\",\\\"215\\\",\\\"216\\\",\\\"217\\\",\\\"218\\\",\\\"219\\\",\\\"220\\\",\\\"221\\\",\\\"222\\\",\\\"223\\\",\\\"224\\\",\\\"225\\\",\\\"226\\\",\\\"227\\\",\\\"228\\\",\\\"229\\\",\\\"230\\\",\\\"231\\\",\\\"232\\\",\\\"233\\\",\\\"234\\\",\\\"235\\\",\\\"236\\\",\\\"237\\\",\\\"238\\\",\\\"239\\\",\\\"240\\\",\\\"241\\\",\\\"242\\\",\\\"243\\\",\\\"244\\\",\\\"245\\\",\\\"246\\\",\\\"247\\\",\\\"248\\\",\\\"249\\\",\\\"250\\\"],\\\"changes\\\":WebIO.getval({\\\"name\\\":\\\"changes\\\",\\\"scope\\\":\\\"7300365863548515520\\\",\\\"id\\\":\\\"ob_124\\\",\\\"type\\\":\\\"observable\\\"}),\\\"index\\\":WebIO.getval({\\\"name\\\":\\\"index\\\",\\\"scope\\\":\\\"7300365863548515520\\\",\\\"id\\\":\\\"ob_123\\\",\\\"type\\\":\\\"observable\\\"})};\\n    var self = this;\\n    function AppViewModel() {\\n        for (var key in json_data) {\\n            var el = json_data[key];\\n            this[key] = Array.isArray(el) ? ko.observableArray(el) : ko.observable(el);\\n        }\\n        \\n        [this[\\\"formatted_val\\\"]=ko.computed(    function(){\\n        return this.formatted_vals()[parseInt(this.index())-(1)];\\n    }\\n,this)]\\n        [this[\\\"changes\\\"].subscribe((function (val){!(this.valueFromJulia[\\\"changes\\\"]) ? (WebIO.setval({\\\"name\\\":\\\"changes\\\",\\\"scope\\\":\\\"7300365863548515520\\\",\\\"id\\\":\\\"ob_124\\\",\\\"type\\\":\\\"observable\\\"},val)) : undefined; return this.valueFromJulia[\\\"changes\\\"]=false}),self),this[\\\"index\\\"].subscribe((function (val){!(this.valueFromJulia[\\\"index\\\"]) ? (WebIO.setval({\\\"name\\\":\\\"index\\\",\\\"scope\\\":\\\"7300365863548515520\\\",\\\"id\\\":\\\"ob_123\\\",\\\"type\\\":\\\"observable\\\"},val)) : undefined; return this.valueFromJulia[\\\"index\\\"]=false}),self)]\\n        \\n    }\\n    self.model = new AppViewModel();\\n    self.valueFromJulia = {};\\n    for (var key in json_data) {\\n        self.valueFromJulia[key] = false;\\n    }\\n    ko.applyBindings(self.model, self.dom);\\n}\\n);\\n    (WebIO.importBlock({\\\"data\\\":[{\\\"name\\\":\\\"knockout\\\",\\\"type\\\":\\\"js\\\",\\\"url\\\":\\\"\\/assetserver\\/3f712825d914ad7ceb56bfee8c26f86f12ffa94d-knockout.js\\\"},{\\\"name\\\":\\\"knockout_punches\\\",\\\"type\\\":\\\"js\\\",\\\"url\\\":\\\"\\/assetserver\\/bb1b62fcbdf49c4be6ac0dad8b532b184373033e-knockout_punches.js\\\"}],\\\"type\\\":\\\"async_block\\\"})).then((imports) => handler.apply(this, imports));\\n}\\n\"],\"observables\":{\"changes\":{\"sync\":false,\"id\":\"ob_124\",\"value\":0},\"index\":{\"sync\":true,\"id\":\"ob_123\",\"value\":126}}},\"children\":[{\"props\":{\"className\":\"interact-flex-row interact-widget\"},\"nodeType\":\"DOM\",\"type\":\"node\",\"instanceArgs\":{\"namespace\":\"html\",\"tag\":\"div\"},\"children\":[{\"props\":{\"className\":\"interact-flex-row-left\"},\"nodeType\":\"DOM\",\"type\":\"node\",\"instanceArgs\":{\"namespace\":\"html\",\"tag\":\"div\"},\"children\":[{\"props\":{\"className\":\"interact \",\"style\":{\"padding\":\"5px 10px 0px 10px\"}},\"nodeType\":\"DOM\",\"type\":\"node\",\"instanceArgs\":{\"namespace\":\"html\",\"tag\":\"label\"},\"children\":[\"γ\"]}]},{\"props\":{\"className\":\"interact-flex-row-center\"},\"nodeType\":\"DOM\",\"type\":\"node\",\"instanceArgs\":{\"namespace\":\"html\",\"tag\":\"div\"},\"children\":[{\"props\":{\"max\":251,\"min\":1,\"attributes\":{\"type\":\"range\",\"data-bind\":\"numericValue: index, valueUpdate: 'input', event: {change: function (){this.changes(this.changes()+1)}}\",\"orient\":\"horizontal\"},\"step\":1,\"className\":\"slider slider is-fullwidth\",\"style\":{}},\"nodeType\":\"DOM\",\"type\":\"node\",\"instanceArgs\":{\"namespace\":\"html\",\"tag\":\"input\"},\"children\":[]}]},{\"props\":{\"className\":\"interact-flex-row-right\"},\"nodeType\":\"DOM\",\"type\":\"node\",\"instanceArgs\":{\"namespace\":\"html\",\"tag\":\"div\"},\"children\":[{\"props\":{\"attributes\":{\"data-bind\":\"text: formatted_val\"}},\"nodeType\":\"DOM\",\"type\":\"node\",\"instanceArgs\":{\"namespace\":\"html\",\"tag\":\"p\"},\"children\":[]}]}]}]}]},{\"props\":{},\"nodeType\":\"Scope\",\"type\":\"node\",\"instanceArgs\":{\"imports\":{\"data\":[],\"type\":\"async_block\"},\"id\":\"10387045630238567905\",\"handlers\":{},\"systemjs_options\":null,\"mount_callbacks\":[],\"observables\":{\"obs-node\":{\"sync\":false,\"id\":\"ob_128\",\"value\":{\"props\":{\"className\":\"interact-flex-row interact-widget\"},\"nodeType\":\"DOM\",\"type\":\"node\",\"instanceArgs\":{\"namespace\":\"html\",\"tag\":\"div\"},\"children\":[{\"props\":{\"setInnerHtml\":\"<?xml version=\\\"1.0\\\" encoding=\\\"utf-8\\\"?>\\n<svg xmlns=\\\"http:\\/\\/www.w3.org\\/2000\\/svg\\\" xmlns:xlink=\\\"http:\\/\\/www.w3.org\\/1999\\/xlink\\\" width=\\\"600\\\" height=\\\"400\\\" viewBox=\\\"0 0 2400 1600\\\">\\n<defs>\\n  <clipPath id=\\\"clip7800\\\">\\n    <rect x=\\\"0\\\" y=\\\"0\\\" width=\\\"2400\\\" height=\\\"1600\\\"\\/>\\n  <\\/clipPath>\\n<\\/defs>\\n<path clip-path=\\\"url(#clip7800)\\\" d=\\\"\\nM0 1600 L2400 1600 L2400 0 L0 0  Z\\n  \\\" fill=\\\"#ffffff\\\" fill-rule=\\\"evenodd\\\" fill-opacity=\\\"1\\\"\\/>\\n<defs>\\n  <clipPath id=\\\"clip7801\\\">\\n    <rect x=\\\"480\\\" y=\\\"0\\\" width=\\\"1681\\\" height=\\\"1600\\\"\\/>\\n  <\\/clipPath>\\n<\\/defs>\\n<path clip-path=\\\"url(#clip7800)\\\" d=\\\"\\nM113.754 1487.47 L2352.76 1487.47 L2352.76 47.2441 L113.754 47.2441  Z\\n  \\\" fill=\\\"#ffffff\\\" fill-rule=\\\"evenodd\\\" fill-opacity=\\\"1\\\"\\/>\\n<defs>\\n  <clipPath id=\\\"clip7802\\\">\\n    <rect x=\\\"113\\\" y=\\\"47\\\" width=\\\"2240\\\" height=\\\"1441\\\"\\/>\\n  <\\/clipPath>\\n<\\/defs>\\n<polyline clip-path=\\\"url(#clip7802)\\\" style=\\\"stroke:#000000; stroke-width:2; stroke-opacity:0.1; fill:none\\\" points=\\\"\\n  177.122,1487.47 177.122,47.2441 \\n  \\\"\\/>\\n<polyline clip-path=\\\"url(#clip7802)\\\" style=\\\"stroke:#000000; stroke-width:2; stroke-opacity:0.1; fill:none\\\" points=\\\"\\n  705.189,1487.47 705.189,47.2441 \\n  \\\"\\/>\\n<polyline clip-path=\\\"url(#clip7802)\\\" style=\\\"stroke:#000000; stroke-width:2; stroke-opacity:0.1; fill:none\\\" points=\\\"\\n  1233.26,1487.47 1233.26,47.2441 \\n  \\\"\\/>\\n<polyline clip-path=\\\"url(#clip7802)\\\" style=\\\"stroke:#000000; stroke-width:2; stroke-opacity:0.1; fill:none\\\" points=\\\"\\n  1761.32,1487.47 1761.32,47.2441 \\n  \\\"\\/>\\n<polyline clip-path=\\\"url(#clip7802)\\\" style=\\\"stroke:#000000; stroke-width:2; stroke-opacity:0.1; fill:none\\\" points=\\\"\\n  2289.39,1487.47 2289.39,47.2441 \\n  \\\"\\/>\\n<polyline clip-path=\\\"url(#clip7802)\\\" style=\\\"stroke:#000000; stroke-width:2; stroke-opacity:0.1; fill:none\\\" points=\\\"\\n  113.754,1390.61 2352.76,1390.61 \\n  \\\"\\/>\\n<polyline clip-path=\\\"url(#clip7802)\\\" style=\\\"stroke:#000000; stroke-width:2; stroke-opacity:0.1; fill:none\\\" points=\\\"\\n  113.754,1021.85 2352.76,1021.85 \\n  \\\"\\/>\\n<polyline clip-path=\\\"url(#clip7802)\\\" style=\\\"stroke:#000000; stroke-width:2; stroke-opacity:0.1; fill:none\\\" points=\\\"\\n  113.754,653.086 2352.76,653.086 \\n  \\\"\\/>\\n<polyline clip-path=\\\"url(#clip7802)\\\" style=\\\"stroke:#000000; stroke-width:2; stroke-opacity:0.1; fill:none\\\" points=\\\"\\n  113.754,284.325 2352.76,284.325 \\n  \\\"\\/>\\n<polyline clip-path=\\\"url(#clip7800)\\\" style=\\\"stroke:#000000; stroke-width:4; stroke-opacity:1; fill:none\\\" points=\\\"\\n  113.754,1487.47 2352.76,1487.47 \\n  \\\"\\/>\\n<polyline clip-path=\\\"url(#clip7800)\\\" style=\\\"stroke:#000000; stroke-width:4; stroke-opacity:1; fill:none\\\" points=\\\"\\n  113.754,1487.47 113.754,47.2441 \\n  \\\"\\/>\\n<polyline clip-path=\\\"url(#clip7800)\\\" style=\\\"stroke:#000000; stroke-width:4; stroke-opacity:1; fill:none\\\" points=\\\"\\n  177.122,1487.47 177.122,1470.19 \\n  \\\"\\/>\\n<polyline clip-path=\\\"url(#clip7800)\\\" style=\\\"stroke:#000000; stroke-width:4; stroke-opacity:1; fill:none\\\" points=\\\"\\n  705.189,1487.47 705.189,1470.19 \\n  \\\"\\/>\\n<polyline clip-path=\\\"url(#clip7800)\\\" style=\\\"stroke:#000000; stroke-width:4; stroke-opacity:1; fill:none\\\" points=\\\"\\n  1233.26,1487.47 1233.26,1470.19 \\n  \\\"\\/>\\n<polyline clip-path=\\\"url(#clip7800)\\\" style=\\\"stroke:#000000; stroke-width:4; stroke-opacity:1; fill:none\\\" points=\\\"\\n  1761.32,1487.47 1761.32,1470.19 \\n  \\\"\\/>\\n<polyline clip-path=\\\"url(#clip7800)\\\" style=\\\"stroke:#000000; stroke-width:4; stroke-opacity:1; fill:none\\\" points=\\\"\\n  2289.39,1487.47 2289.39,1470.19 \\n  \\\"\\/>\\n<polyline clip-path=\\\"url(#clip7800)\\\" style=\\\"stroke:#000000; stroke-width:4; stroke-opacity:1; fill:none\\\" points=\\\"\\n  113.754,1390.61 140.622,1390.61 \\n  \\\"\\/>\\n<polyline clip-path=\\\"url(#clip7800)\\\" style=\\\"stroke:#000000; stroke-width:4; stroke-opacity:1; fill:none\\\" points=\\\"\\n  113.754,1021.85 140.622,1021.85 \\n  \\\"\\/>\\n<polyline clip-path=\\\"url(#clip7800)\\\" style=\\\"stroke:#000000; stroke-width:4; stroke-opacity:1; fill:none\\\" points=\\\"\\n  113.754,653.086 140.622,653.086 \\n  \\\"\\/>\\n<polyline clip-path=\\\"url(#clip7800)\\\" style=\\\"stroke:#000000; stroke-width:4; stroke-opacity:1; fill:none\\\" points=\\\"\\n  113.754,284.325 140.622,284.325 \\n  \\\"\\/>\\n<g clip-path=\\\"url(#clip7800)\\\">\\n<text style=\\\"fill:#000000; fill-opacity:1; font-family:Arial,Helvetica Neue,Helvetica,sans-serif; font-size:48px; text-anchor:middle;\\\" transform=\\\"rotate(0, 177.122, 1541.47)\\\" x=\\\"177.122\\\" y=\\\"1541.47\\\">0<\\/text>\\n<\\/g>\\n<g clip-path=\\\"url(#clip7800)\\\">\\n<text style=\\\"fill:#000000; fill-opacity:1; font-family:Arial,Helvetica Neue,Helvetica,sans-serif; font-size:48px; text-anchor:middle;\\\" transform=\\\"rotate(0, 705.189, 1541.47)\\\" x=\\\"705.189\\\" y=\\\"1541.47\\\">1<\\/text>\\n<\\/g>\\n<g clip-path=\\\"url(#clip7800)\\\">\\n<text style=\\\"fill:#000000; fill-opacity:1; font-family:Arial,Helvetica Neue,Helvetica,sans-serif; font-size:48px; text-anchor:middle;\\\" transform=\\\"rotate(0, 1233.26, 1541.47)\\\" x=\\\"1233.26\\\" y=\\\"1541.47\\\">2<\\/text>\\n<\\/g>\\n<g clip-path=\\\"url(#clip7800)\\\">\\n<text style=\\\"fill:#000000; fill-opacity:1; font-family:Arial,Helvetica Neue,Helvetica,sans-serif; font-size:48px; text-anchor:middle;\\\" transform=\\\"rotate(0, 1761.32, 1541.47)\\\" x=\\\"1761.32\\\" y=\\\"1541.47\\\">3<\\/text>\\n<\\/g>\\n<g clip-path=\\\"url(#clip7800)\\\">\\n<text style=\\\"fill:#000000; fill-opacity:1; font-family:Arial,Helvetica Neue,Helvetica,sans-serif; font-size:48px; text-anchor:middle;\\\" transform=\\\"rotate(0, 2289.39, 1541.47)\\\" x=\\\"2289.39\\\" y=\\\"1541.47\\\">4<\\/text>\\n<\\/g>\\n<g clip-path=\\\"url(#clip7800)\\\">\\n<text style=\\\"fill:#000000; fill-opacity:1; font-family:Arial,Helvetica Neue,Helvetica,sans-serif; font-size:48px; text-anchor:end;\\\" transform=\\\"rotate(0, 89.7545, 1408.11)\\\" x=\\\"89.7545\\\" y=\\\"1408.11\\\">0<\\/text>\\n<\\/g>\\n<g clip-path=\\\"url(#clip7800)\\\">\\n<text style=\\\"fill:#000000; fill-opacity:1; font-family:Arial,Helvetica Neue,Helvetica,sans-serif; font-size:48px; text-anchor:end;\\\" transform=\\\"rotate(0, 89.7545, 1039.35)\\\" x=\\\"89.7545\\\" y=\\\"1039.35\\\">1<\\/text>\\n<\\/g>\\n<g clip-path=\\\"url(#clip7800)\\\">\\n<text style=\\\"fill:#000000; fill-opacity:1; font-family:Arial,Helvetica Neue,Helvetica,sans-serif; font-size:48px; text-anchor:end;\\\" transform=\\\"rotate(0, 89.7545, 670.586)\\\" x=\\\"89.7545\\\" y=\\\"670.586\\\">2<\\/text>\\n<\\/g>\\n<g clip-path=\\\"url(#clip7800)\\\">\\n<text style=\\\"fill:#000000; fill-opacity:1; font-family:Arial,Helvetica Neue,Helvetica,sans-serif; font-size:48px; text-anchor:end;\\\" transform=\\\"rotate(0, 89.7545, 301.825)\\\" x=\\\"89.7545\\\" y=\\\"301.825\\\">3<\\/text>\\n<\\/g>\\n<polyline clip-path=\\\"url(#clip7802)\\\" style=\\\"stroke:#009af9; stroke-width:8; stroke-opacity:1; fill:none\\\" points=\\\"\\n  177.122,1308.44 184.187,1382.45 191.251,1408.49 198.316,1417.85 205.38,1309.12 212.445,1372.7 219.509,1446.71 226.573,1332.87 233.638,1279.64 240.702,1213.29 \\n  247.767,1231.65 254.831,1228.56 261.896,1279.11 268.96,1202.41 276.024,1398.8 283.089,1285.28 290.153,1276.23 297.218,1175.26 304.282,1286.2 311.347,1229.96 \\n  318.411,1290.01 325.476,1248.76 332.54,1163.68 339.604,1243.3 346.669,1167.99 353.733,1171.26 360.798,1101.9 367.862,1233.93 374.927,1104.37 381.991,1099.03 \\n  389.055,1123.52 396.12,1023.07 403.184,1066.04 410.249,1040.22 417.313,1035.79 424.378,1084.25 431.442,1199.67 438.506,1117.35 445.571,1063.54 452.635,1061.95 \\n  459.7,999.858 466.764,1075.1 473.829,1069.34 480.893,1067.01 487.957,1144.77 495.022,1081.98 502.086,1051.59 509.151,999.833 516.215,1052.27 523.28,1052.16 \\n  530.344,820.545 537.409,1013.21 544.473,978.631 551.537,975.679 558.602,919.096 565.666,964.205 572.731,994.464 579.795,1009.07 586.86,1038.69 593.924,1028.73 \\n  600.988,891.597 608.053,1001.01 615.117,1037.92 622.182,978.691 629.246,901.642 636.311,949.817 643.375,1041.27 650.439,1058.12 657.504,925.528 664.568,917.621 \\n  671.633,1030.55 678.697,974.742 685.762,1063.89 692.826,1185.81 699.89,1004.27 706.955,1016.77 714.019,1100.13 721.084,974.214 728.148,992.342 735.213,865.603 \\n  742.277,944.601 749.342,970.897 756.406,936.121 763.47,948.619 770.535,793.201 777.599,952.354 784.664,785.287 791.728,982.565 798.793,968.024 805.857,898.96 \\n  812.921,935.199 819.986,954.196 827.05,958.279 834.115,956.302 841.179,961.713 848.244,1028.11 855.308,1002.21 862.372,981.65 869.437,905.363 876.501,959.154 \\n  883.566,908.192 890.63,1006.08 897.695,975.231 904.759,964.781 911.823,1003.04 918.888,883.149 925.952,1079.43 933.017,891.984 940.081,940.907 947.146,998.856 \\n  954.21,945.06 961.275,1016.79 968.339,973.748 975.403,1012.18 982.468,1032.37 989.532,1086.48 996.597,1043.69 1003.66,1076.74 1010.73,1028.17 1017.79,1101.21 \\n  1024.85,1010.47 1031.92,1048.48 1038.98,946.47 1046.05,1037.87 1053.11,1005.97 1060.18,927.717 1067.24,978.456 1074.31,977.817 1081.37,1042.93 1088.43,1112.94 \\n  1095.5,974.131 1102.56,999.892 1109.63,961.041 1116.69,974.982 1123.76,1075.89 1130.82,986.351 1137.89,1063.42 1144.95,1103.71 1152.01,935.82 1159.08,895.692 \\n  1166.14,994.311 1173.21,1065.31 1180.27,1065.33 1187.34,957.483 1194.4,880.373 1201.47,858.212 1208.53,1013.11 1215.59,1025.36 1222.66,959.808 1229.72,939.321 \\n  1236.79,950.082 1243.85,859.861 1250.92,873.595 1257.98,799.909 1265.05,913.066 1272.11,826.913 1279.17,874.839 1286.24,992.277 1293.3,932.971 1300.37,755.843 \\n  1307.43,819.921 1314.5,895.633 1321.56,811.915 1328.63,808.89 1335.69,912.496 1342.75,791.655 1349.82,666.956 1356.88,846.995 1363.95,869.218 1371.01,709.392 \\n  1378.08,695.671 1385.14,786.711 1392.2,711.514 1399.27,666.319 1406.33,655.812 1413.4,579.597 1420.46,712.918 1427.53,684.724 1434.59,769.206 1441.66,597.816 \\n  1448.72,656.317 1455.78,666.282 1462.85,815.073 1469.91,677.933 1476.98,606.24 1484.04,588.361 1491.11,615.069 1498.17,621.118 1505.24,546.337 1512.3,614.185 \\n  1519.36,584.796 1526.43,517.32 1533.49,563.762 1540.56,566.646 1547.62,525.778 1554.69,482.997 1561.75,509.277 1568.82,423.246 1575.88,442.713 1582.94,440.742 \\n  1590.01,371.229 1597.07,441.962 1604.14,371.509 1611.2,532.651 1618.27,392.612 1625.33,385.97 1632.4,307.699 1639.46,506.101 1646.52,351.157 1653.59,354.3 \\n  1660.65,415.322 1667.72,292.042 1674.78,382.29 1681.85,395.382 1688.91,251.132 1695.98,272.644 1703.04,338.221 1710.1,391.142 1717.17,322.899 1724.23,294.762 \\n  1731.3,215.618 1738.36,228.21 1745.43,315.752 1752.49,183.377 1759.56,279.474 1766.62,193.741 1773.68,234.522 1780.75,235.043 1787.81,159.463 1794.88,313.004 \\n  1801.94,334.248 1809.01,246.614 1816.07,151.504 1823.14,88.0053 1830.2,196.868 1837.26,231.645 1844.33,114.906 1851.39,271.774 1858.46,121.043 1865.52,179.204 \\n  1872.59,205.168 1879.65,320.042 1886.72,224.782 1893.78,283.634 1900.84,285.304 1907.91,350.787 1914.97,330.513 1922.04,130.529 1929.1,241.134 1936.17,264.351 \\n  1943.23,279.523 1950.3,353.439 1957.36,250.028 1964.42,285.377 1971.49,362.549 1978.55,396.618 1985.62,436.925 1992.68,452.856 1999.75,361.543 2006.81,369.836 \\n  2013.88,369.648 2020.94,373.396 2028,357.183 2035.07,348.547 2042.13,363.579 2049.2,483.228 2056.26,553.087 2063.33,432.266 2070.39,427.919 2077.45,456.121 \\n  2084.52,502.897 2091.58,599.542 2098.65,580.178 2105.71,696.893 2112.78,561.752 2119.84,536.672 2126.91,663.842 2133.97,639.62 2141.03,528.434 2148.1,648.525 \\n  2155.16,565.938 2162.23,691.71 2169.29,722.033 2176.36,805.812 2183.42,704.67 2190.49,747.197 2197.55,834.011 2204.61,863.704 2211.68,835.384 2218.74,872.556 \\n  2225.81,946.55 2232.87,898.94 2239.94,851.906 2247,974.885 2254.07,938.878 2261.13,882.66 2268.19,918.554 2275.26,984.967 2282.32,1078.46 2289.39,987.4 \\n  \\n  \\\"\\/>\\n<polyline clip-path=\\\"url(#clip7802)\\\" style=\\\"stroke:#e26f46; stroke-width:8; stroke-opacity:1; fill:none\\\" points=\\\"\\n  177.122,1294.82 184.187,1294.71 191.251,1293.9 198.316,1292.17 205.38,1289.44 212.445,1286.55 219.509,1282.97 226.573,1278.08 233.638,1272.75 240.702,1267.37 \\n  247.767,1262.42 254.831,1257.71 261.896,1253.24 268.96,1248.56 276.024,1244.25 283.089,1238.71 290.153,1232.79 297.218,1226.52 304.282,1220.67 311.347,1214.29 \\n  318.411,1207.78 325.476,1200.62 332.54,1193.07 339.604,1185.76 346.669,1177.99 353.733,1170.29 360.798,1162.59 367.862,1155.38 374.927,1147.53 381.991,1140.04 \\n  389.055,1132.87 396.12,1125.77 403.184,1119.5 410.249,1113.65 417.313,1108.39 424.378,1103.71 431.442,1099.19 438.506,1093.86 445.571,1088.35 452.635,1083.03 \\n  459.7,1077.89 466.764,1073.36 473.829,1068.83 480.893,1064.29 487.957,1059.72 495.022,1054.48 502.086,1049.02 509.151,1043.54 516.215,1038.4 523.28,1033.16 \\n  530.344,1027.76 537.409,1024.02 544.473,1020.37 551.537,1017.05 558.602,1014.06 565.666,1011.84 572.731,1009.99 579.795,1008.27 586.86,1006.54 593.924,1004.55 \\n  600.988,1002.37 608.053,1001.08 615.117,999.784 622.182,998.186 629.246,996.744 636.311,996.063 643.375,995.752 650.439,995.076 657.504,993.896 664.568,993.264 \\n  671.633,993.236 678.697,992.91 685.762,992.729 692.826,991.978 699.89,989.678 706.955,987.26 714.019,984.606 721.084,981.028 728.148,977.505 735.213,973.863 \\n  742.277,971.087 749.342,968.523 756.406,965.94 763.47,963.596 770.535,961.371 777.599,960.491 784.664,959.677 791.728,960.258 798.793,960.661 805.857,961.004 \\n  812.921,961.844 819.986,962.897 827.05,964.02 834.115,965.188 841.179,966.428 848.244,967.705 855.308,968.499 862.372,969.024 869.437,969.447 876.501,970.383 \\n  883.566,971.409 890.63,972.941 897.695,974.208 904.759,975.466 911.823,976.81 918.888,977.944 925.952,979.836 933.017,980.932 940.081,982.739 947.146,984.881 \\n  954.21,986.911 961.275,989.276 968.339,991.421 975.403,993.708 982.468,995.846 989.532,997.692 996.597,998.828 1003.66,999.606 1010.73,999.766 1017.79,999.699 \\n  1024.85,998.819 1031.92,997.847 1038.98,996.469 1046.05,995.492 1053.11,994.175 1060.18,992.764 1067.24,991.874 1074.31,991.09 1081.37,990.413 1088.43,989.316 \\n  1095.5,987.23 1102.56,985.249 1109.63,983.15 1116.69,981.228 1123.76,979.357 1130.82,976.712 1137.89,973.991 1144.95,970.555 1152.01,966.053 1159.08,961.793 \\n  1166.14,958.062 1173.21,954.041 1180.27,949.13 1187.34,943.289 1194.4,937.335 1201.47,931.836 1208.53,926.927 1215.59,921.327 1222.66,914.896 1229.72,908.105 \\n  1236.79,901.065 1243.85,893.632 1250.92,886.47 1257.98,879.411 1265.05,872.987 1272.11,866.243 1279.17,859.814 1286.24,853.265 1293.3,845.603 1300.37,837.242 \\n  1307.43,829.533 1314.5,821.901 1321.56,813.678 1328.63,805.47 1335.69,797.234 1342.75,788.077 1349.82,778.89 1356.88,770.6 1363.95,761.698 1371.01,751.935 \\n  1378.08,742.514 1385.14,733.467 1392.2,723.994 1399.27,714.62 1406.33,705.634 1413.4,697.045 1420.46,689.397 1427.53,681.56 1434.59,673.698 1441.66,665.072 \\n  1448.72,656.984 1455.78,648.901 1462.85,640.679 1469.91,631.062 1476.98,621.07 1484.04,611.197 1491.11,601.506 1498.17,591.707 1505.24,581.673 1512.3,571.921 \\n  1519.36,561.831 1526.43,551.557 1533.49,541.558 1540.56,531.38 1547.62,520.921 1554.69,510.423 1561.75,500.144 1568.82,489.792 1575.88,479.972 1582.94,470.451 \\n  1590.01,461.167 1597.07,452.603 1604.14,444.123 1611.2,436.225 1618.27,427.555 1625.33,419.165 1632.4,411.041 1639.46,403.743 1646.52,395.626 1653.59,387.865 \\n  1660.65,380.373 1667.72,372.601 1674.78,365.473 1681.85,358.211 1688.91,350.652 1695.98,343.888 1703.04,337.695 1710.1,331.497 1717.17,324.823 1724.23,318.163 \\n  1731.3,311.691 1738.36,305.988 1745.43,300.906 1752.49,295.706 1759.56,291.405 1766.62,287.199 1773.68,283.741 1780.75,280.676 1787.81,277.976 1794.88,276.225 \\n  1801.94,274.179 1809.01,271.653 1816.07,269.327 1823.14,267.944 1830.2,268 1837.26,268.626 1844.33,269.547 1851.39,271.705 1858.46,273.863 1865.52,277.243 \\n  1872.59,281.408 1879.65,286.182 1886.72,290.686 1893.78,295.717 1900.84,300.844 1907.91,306.096 1914.97,310.99 1922.04,315.728 1929.1,321.948 1936.17,328.814 \\n  1943.23,336.196 1950.3,344.032 1957.36,351.792 1964.42,360.366 1971.49,369.54 1978.55,378.77 1985.62,387.857 1992.68,396.552 1999.75,404.796 2006.81,413.386 \\n  2013.88,422.325 2020.94,431.685 2028,441.512 2035.07,452.013 2042.13,463.341 2049.2,475.468 2056.26,487.533 2063.33,499.073 2070.39,511.148 2077.45,523.889 \\n  2084.52,537.172 2091.58,550.729 2098.65,563.895 2105.71,576.931 2112.78,589.008 2119.84,601.302 2126.91,614.114 2133.97,626.528 2141.03,638.837 2148.1,652.029 \\n  2155.16,665.249 2162.23,679.264 2169.29,693.179 2176.36,706.864 2183.42,719.756 2190.49,732.77 2197.55,745.668 2204.61,757.859 2211.68,769.204 2218.74,780.019 \\n  2225.81,790.094 2232.87,798.917 2239.94,806.94 2247,814.603 2254.07,820.984 2261.13,826.422 2268.19,831.41 2275.26,835.701 2282.32,838.798 2289.39,839.977 \\n  \\n  \\\"\\/>\\n<\\/svg>\\n\"},\"nodeType\":\"DOM\",\"type\":\"node\",\"instanceArgs\":{\"namespace\":\"html\",\"tag\":\"div\"},\"children\":[]}]}}}},\"children\":[{\"props\":{},\"nodeType\":\"ObservableNode\",\"type\":\"node\",\"instanceArgs\":{\"id\":\"ob_128\",\"name\":\"obs-node\"},\"children\":[]}]}]},\n",
       "            window,\n",
       "        );\n",
       "    } else {\n",
       "        document\n",
       "            .querySelector('[data-webio-mountpoint=\"3764126725069112817\"]')\n",
       "            .innerHTML = (\n",
       "                '<div style=\"padding: 1em; background-color: #f8d6da; border: 1px solid #f5c6cb\">' +\n",
       "                '<p><strong>WebIO not detected.</strong></p>' +\n",
       "                '<p>Please read ' +\n",
       "                '<a href=\"https://juliagizmos.github.io/WebIO.jl/latest/troubleshooting/not-detected/\" target=\"_blank\">the troubleshooting guide</a> ' +\n",
       "                'for more information on how to resolve this issue.</p>' +\n",
       "                '<p><a href=\"https://juliagizmos.github.io/WebIO.jl/latest/troubleshooting/not-detected/\" target=\"_blank\">https://juliagizmos.github.io/WebIO.jl/latest/troubleshooting/not-detected/</a></p>' +\n",
       "                '</div>'\n",
       "            );\n",
       "    }\n",
       "    </script>\n",
       "</div>\n"
      ],
      "text/plain": [
       "Node{WebIO.DOM}(WebIO.DOM(:html, :div), Any[Node{WebIO.DOM}(WebIO.DOM(:html, :div), Any[Scope(Node{WebIO.DOM}(WebIO.DOM(:html, :div), Any[Node{WebIO.DOM}(WebIO.DOM(:html, :div), Any[Node{WebIO.DOM}(WebIO.DOM(:html, :label), Any[\"γ\"], Dict{Symbol,Any}(:className => \"interact \",:style => Dict{Any,Any}(:padding => \"5px 10px 0px 10px\")))], Dict{Symbol,Any}(:className => \"interact-flex-row-left\")), Node{WebIO.DOM}(WebIO.DOM(:html, :div), Any[Node{WebIO.DOM}(WebIO.DOM(:html, :input), Any[], Dict{Symbol,Any}(:max => 251,:min => 1,:attributes => Dict{Any,Any}(:type => \"range\",Symbol(\"data-bind\") => \"numericValue: index, valueUpdate: 'input', event: {change: function (){this.changes(this.changes()+1)}}\",\"orient\" => \"horizontal\"),:step => 1,:className => \"slider slider is-fullwidth\",:style => Dict{Any,Any}()))], Dict{Symbol,Any}(:className => \"interact-flex-row-center\")), Node{WebIO.DOM}(WebIO.DOM(:html, :div), Any[Node{WebIO.DOM}(WebIO.DOM(:html, :p), Any[], Dict{Symbol,Any}(:attributes => Dict(\"data-bind\" => \"text: formatted_val\")))], Dict{Symbol,Any}(:className => \"interact-flex-row-right\"))], Dict{Symbol,Any}(:className => \"interact-flex-row interact-widget\")), Dict{String,Tuple{Observables.AbstractObservable,Union{Nothing, Bool}}}(\"changes\" => (Observable{Int64} with 1 listeners. Value:\n",
       "0, nothing),\"index\" => (Observable{Any} with 2 listeners. Value:\n",
       "126, nothing)), Set(String[]), nothing, Asset[Asset(\"js\", \"knockout\", \"/Users/mpf/.julia/packages/Knockout/1sDlc/src/../assets/knockout.js\"), Asset(\"js\", \"knockout_punches\", \"/Users/mpf/.julia/packages/Knockout/1sDlc/src/../assets/knockout_punches.js\"), Asset(\"js\", nothing, \"/Users/mpf/.julia/packages/InteractBase/9mFwe/src/../assets/all.js\"), Asset(\"css\", nothing, \"/Users/mpf/.julia/packages/InteractBase/9mFwe/src/../assets/style.css\"), Asset(\"css\", nothing, \"/Users/mpf/.julia/packages/Interact/SbgIk/src/../assets/bulma_confined.min.css\")], Dict{Any,Any}(\"changes\" => Any[WebIO.JSString(\"(function (val){return (val!=this.model[\\\"changes\\\"]()) ? (this.valueFromJulia[\\\"changes\\\"]=true, this.model[\\\"changes\\\"](val)) : undefined})\")],\"index\" => Any[WebIO.JSString(\"(function (val){return (val!=this.model[\\\"index\\\"]()) ? (this.valueFromJulia[\\\"index\\\"]=true, this.model[\\\"index\\\"](val)) : undefined})\")]), WebIO.ConnectionPool(Channel{Any}(sz_max:32,sz_curr:0), Set(AbstractConnection[]), Base.GenericCondition{Base.AlwaysLockedST}(Base.InvasiveLinkedList{Task}(Task (runnable) @0x0000000111016f50, Task (runnable) @0x0000000111016f50), Base.AlwaysLockedST(1))), WebIO.JSString[WebIO.JSString(\"function () {\\n    var handler = (function (ko, koPunches) {\\n    ko.punches.enableAll();\\n    ko.bindingHandlers.numericValue = {\\n        init: function(element, valueAccessor, allBindings, data, context) {\\n            var stringified = ko.observable(ko.unwrap(valueAccessor()));\\n            stringified.subscribe(function(value) {\\n                var val = parseFloat(value);\\n                if (!isNaN(val)) {\\n                    valueAccessor()(val);\\n                }\\n            });\\n            valueAccessor().subscribe(function(value) {\\n                var str = JSON.stringify(value);\\n                if ((str == \\\"0\\\") && ([\\\"-0\\\", \\\"-0.\\\"].indexOf(stringified()) >= 0))\\n                     return;\\n                 if ([\\\"null\\\", \\\"\\\"].indexOf(str) >= 0)\\n                     return;\\n                stringified(str);\\n            });\\n            ko.applyBindingsToNode(\\n                element,\\n                {\\n                    value: stringified,\\n                    valueUpdate: allBindings.get('valueUpdate'),\\n                },\\n                context,\\n            );\\n        }\\n    };\\n    var json_data = {\\\"formatted_vals\\\":[\\\"0\\\",\\\"1\\\",\\\"2\\\",\\\"3\\\",\\\"4\\\",\\\"5\\\",\\\"6\\\",\\\"7\\\",\\\"8\\\",\\\"9\\\",\\\"10\\\",\\\"11\\\",\\\"12\\\",\\\"13\\\",\\\"14\\\",\\\"15\\\",\\\"16\\\",\\\"17\\\",\\\"18\\\",\\\"19\\\",\\\"20\\\",\\\"21\\\",\\\"22\\\",\\\"23\\\",\\\"24\\\",\\\"25\\\",\\\"26\\\",\\\"27\\\",\\\"28\\\",\\\"29\\\",\\\"30\\\",\\\"31\\\",\\\"32\\\",\\\"33\\\",\\\"34\\\",\\\"35\\\",\\\"36\\\",\\\"37\\\",\\\"38\\\",\\\"39\\\",\\\"40\\\",\\\"41\\\",\\\"42\\\",\\\"43\\\",\\\"44\\\",\\\"45\\\",\\\"46\\\",\\\"47\\\",\\\"48\\\",\\\"49\\\",\\\"50\\\",\\\"51\\\",\\\"52\\\",\\\"53\\\",\\\"54\\\",\\\"55\\\",\\\"56\\\",\\\"57\\\",\\\"58\\\",\\\"59\\\",\\\"60\\\",\\\"61\\\",\\\"62\\\",\\\"63\\\",\\\"64\\\",\\\"65\\\",\\\"66\\\",\\\"67\\\",\\\"68\\\",\\\"69\\\",\\\"70\\\",\\\"71\\\",\\\"72\\\",\\\"73\\\",\\\"74\\\",\\\"75\\\",\\\"76\\\",\\\"77\\\",\\\"78\\\",\\\"79\\\",\\\"80\\\",\\\"81\\\",\\\"82\\\",\\\"83\\\",\\\"84\\\",\\\"85\\\",\\\"86\\\",\\\"87\\\",\\\"88\\\",\\\"89\\\",\\\"90\\\",\\\"91\\\",\\\"92\\\",\\\"93\\\",\\\"94\\\",\\\"95\\\",\\\"96\\\",\\\"97\\\",\\\"98\\\",\\\"99\\\",\\\"100\\\",\\\"101\\\",\\\"102\\\",\\\"103\\\",\\\"104\\\",\\\"105\\\",\\\"106\\\",\\\"107\\\",\\\"108\\\",\\\"109\\\",\\\"110\\\",\\\"111\\\",\\\"112\\\",\\\"113\\\",\\\"114\\\",\\\"115\\\",\\\"116\\\",\\\"117\\\",\\\"118\\\",\\\"119\\\",\\\"120\\\",\\\"121\\\",\\\"122\\\",\\\"123\\\",\\\"124\\\",\\\"125\\\",\\\"126\\\",\\\"127\\\",\\\"128\\\",\\\"129\\\",\\\"130\\\",\\\"131\\\",\\\"132\\\",\\\"133\\\",\\\"134\\\",\\\"135\\\",\\\"136\\\",\\\"137\\\",\\\"138\\\",\\\"139\\\",\\\"140\\\",\\\"141\\\",\\\"142\\\",\\\"143\\\",\\\"144\\\",\\\"145\\\",\\\"146\\\",\\\"147\\\",\\\"148\\\",\\\"149\\\",\\\"150\\\",\\\"151\\\",\\\"152\\\",\\\"153\\\",\\\"154\\\",\\\"155\\\",\\\"156\\\",\\\"157\\\",\\\"158\\\",\\\"159\\\",\\\"160\\\",\\\"161\\\",\\\"162\\\",\\\"163\\\",\\\"164\\\",\\\"165\\\",\\\"166\\\",\\\"167\\\",\\\"168\\\",\\\"169\\\",\\\"170\\\",\\\"171\\\",\\\"172\\\",\\\"173\\\",\\\"174\\\",\\\"175\\\",\\\"176\\\",\\\"177\\\",\\\"178\\\",\\\"179\\\",\\\"180\\\",\\\"181\\\",\\\"182\\\",\\\"183\\\",\\\"184\\\",\\\"185\\\",\\\"186\\\",\\\"187\\\",\\\"188\\\",\\\"189\\\",\\\"190\\\",\\\"191\\\",\\\"192\\\",\\\"193\\\",\\\"194\\\",\\\"195\\\",\\\"196\\\",\\\"197\\\",\\\"198\\\",\\\"199\\\",\\\"200\\\",\\\"201\\\",\\\"202\\\",\\\"203\\\",\\\"204\\\",\\\"205\\\",\\\"206\\\",\\\"207\\\",\\\"208\\\",\\\"209\\\",\\\"210\\\",\\\"211\\\",\\\"212\\\",\\\"213\\\",\\\"214\\\",\\\"215\\\",\\\"216\\\",\\\"217\\\",\\\"218\\\",\\\"219\\\",\\\"220\\\",\\\"221\\\",\\\"222\\\",\\\"223\\\",\\\"224\\\",\\\"225\\\",\\\"226\\\",\\\"227\\\",\\\"228\\\",\\\"229\\\",\\\"230\\\",\\\"231\\\",\\\"232\\\",\\\"233\\\",\\\"234\\\",\\\"235\\\",\\\"236\\\",\\\"237\\\",\\\"238\\\",\\\"239\\\",\\\"240\\\",\\\"241\\\",\\\"242\\\",\\\"243\\\",\\\"244\\\",\\\"245\\\",\\\"246\\\",\\\"247\\\",\\\"248\\\",\\\"249\\\",\\\"250\\\"],\\\"changes\\\":WebIO.getval({\\\"name\\\":\\\"changes\\\",\\\"scope\\\":\\\"7300365863548515520\\\",\\\"id\\\":\\\"ob_124\\\",\\\"type\\\":\\\"observable\\\"}),\\\"index\\\":WebIO.getval({\\\"name\\\":\\\"index\\\",\\\"scope\\\":\\\"7300365863548515520\\\",\\\"id\\\":\\\"ob_123\\\",\\\"type\\\":\\\"observable\\\"})};\\n    var self = this;\\n    function AppViewModel() {\\n        for (var key in json_data) {\\n            var el = json_data[key];\\n            this[key] = Array.isArray(el) ? ko.observableArray(el) : ko.observable(el);\\n        }\\n        \\n        [this[\\\"formatted_val\\\"]=ko.computed(    function(){\\n        return this.formatted_vals()[parseInt(this.index())-(1)];\\n    }\\n,this)]\\n        [this[\\\"changes\\\"].subscribe((function (val){!(this.valueFromJulia[\\\"changes\\\"]) ? (WebIO.setval({\\\"name\\\":\\\"changes\\\",\\\"scope\\\":\\\"7300365863548515520\\\",\\\"id\\\":\\\"ob_124\\\",\\\"type\\\":\\\"observable\\\"},val)) : undefined; return this.valueFromJulia[\\\"changes\\\"]=false}),self),this[\\\"index\\\"].subscribe((function (val){!(this.valueFromJulia[\\\"index\\\"]) ? (WebIO.setval({\\\"name\\\":\\\"index\\\",\\\"scope\\\":\\\"7300365863548515520\\\",\\\"id\\\":\\\"ob_123\\\",\\\"type\\\":\\\"observable\\\"},val)) : undefined; return this.valueFromJulia[\\\"index\\\"]=false}),self)]\\n        \\n    }\\n    self.model = new AppViewModel();\\n    self.valueFromJulia = {};\\n    for (var key in json_data) {\\n        self.valueFromJulia[key] = false;\\n    }\\n    ko.applyBindings(self.model, self.dom);\\n}\\n);\\n    (WebIO.importBlock({\\\"data\\\":[{\\\"name\\\":\\\"knockout\\\",\\\"type\\\":\\\"js\\\",\\\"url\\\":\\\"/assetserver/3f712825d914ad7ceb56bfee8c26f86f12ffa94d-knockout.js\\\"},{\\\"name\\\":\\\"knockout_punches\\\",\\\"type\\\":\\\"js\\\",\\\"url\\\":\\\"/assetserver/bb1b62fcbdf49c4be6ac0dad8b532b184373033e-knockout_punches.js\\\"}],\\\"type\\\":\\\"async_block\\\"})).then((imports) => handler.apply(this, imports));\\n}\\n\")])], Dict{Symbol,Any}(:className => \"field interact-widget\")), Observable{Any} with 0 listeners. Value:\n",
       "Node{WebIO.DOM}(WebIO.DOM(:html, :div), Any[Plot{Plots.GRBackend() n=2}], Dict{Symbol,Any}(:className => \"interact-flex-row interact-widget\"))], Dict{Symbol,Any}())"
      ]
     },
     "execution_count": 55,
     "metadata": {
      "application/vnd.webio.node+json": {
       "kernelId": "9805c853-6849-4604-a60c-c5640fae9a8f"
      }
     },
     "output_type": "execute_result"
    }
   ],
   "source": [
    "@manipulate for γ = 0:1:250\n",
    "    x = (I + γ*D'*D) \\ b\n",
    "    plot(t, b, leg=false, w=2)\n",
    "    plot!(t, x, w=2)\n",
    "end"
   ]
  },
  {
   "cell_type": "code",
   "execution_count": null,
   "metadata": {},
   "outputs": [],
   "source": []
  }
 ],
 "metadata": {
  "@webio": {
   "lastCommId": "79e7ac92e1f5440d8368e39b523100aa",
   "lastKernelId": "9805c853-6849-4604-a60c-c5640fae9a8f"
  },
  "kernelspec": {
   "display_name": "Julia 1.3.1",
   "language": "julia",
   "name": "julia-1.3"
  },
  "language_info": {
   "file_extension": ".jl",
   "mimetype": "application/julia",
   "name": "julia",
   "version": "1.3.1"
  }
 },
 "nbformat": 4,
 "nbformat_minor": 2
}
