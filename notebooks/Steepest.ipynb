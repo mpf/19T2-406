{
 "cells": [
  {
   "cell_type": "markdown",
   "metadata": {},
   "source": [
    "# Steepest descent"
   ]
  },
  {
   "cell_type": "code",
   "execution_count": 4,
   "metadata": {},
   "outputs": [],
   "source": [
    "using Plots, ForwardDiff, Printf, LinearAlgebra"
   ]
  },
  {
   "cell_type": "markdown",
   "metadata": {},
   "source": [
    "Apply steepest descent with exact linesearch to a quadratic function\n",
    "$$\n",
    "f(x) = 1/2 x^T A x + b^T x\n",
    "$$"
   ]
  },
  {
   "cell_type": "code",
   "execution_count": 16,
   "metadata": {},
   "outputs": [],
   "source": [
    "function grad_method_exact_ls(A, b, x0, ϵ=1e-6)\n",
    "    x = copy(x0)\n",
    "    ∇f = A*x + b\n",
    "    k = 0\n",
    "    while norm(∇f) > ϵ\n",
    "        α = dot(∇f,∇f) / dot(∇f, A*∇f)\n",
    "        x = x - α*∇f\n",
    "        ∇f = A*x + b\n",
    "        f = (1/2)x'*A*x + b'x\n",
    "        @printf \"it = %3d  |∇f| = %8.2e  f = %8.2e\\n\" k norm(∇f) f\n",
    "        k += 1\n",
    "    end\n",
    "end;"
   ]
  },
  {
   "cell_type": "code",
   "execution_count": 18,
   "metadata": {},
   "outputs": [
    {
     "name": "stdout",
     "output_type": "stream",
     "text": [
      "it =   0  |∇f| = 9.43e-01  f = 3.33e-01\n",
      "it =   1  |∇f| = 3.14e-01  f = 3.70e-02\n",
      "it =   2  |∇f| = 1.05e-01  f = 4.12e-03\n",
      "it =   3  |∇f| = 3.49e-02  f = 4.57e-04\n",
      "it =   4  |∇f| = 1.16e-02  f = 5.08e-05\n",
      "it =   5  |∇f| = 3.88e-03  f = 5.65e-06\n",
      "it =   6  |∇f| = 1.29e-03  f = 6.27e-07\n",
      "it =   7  |∇f| = 4.31e-04  f = 6.97e-08\n",
      "it =   8  |∇f| = 1.44e-04  f = 7.74e-09\n",
      "it =   9  |∇f| = 4.79e-05  f = 8.60e-10\n",
      "it =  10  |∇f| = 1.60e-05  f = 9.56e-11\n",
      "it =  11  |∇f| = 5.32e-06  f = 1.06e-11\n",
      "it =  12  |∇f| = 1.77e-06  f = 1.18e-12\n",
      "it =  13  |∇f| = 5.91e-07  f = 1.31e-13\n"
     ]
    }
   ],
   "source": [
    "# f(x) = x^2 + 2y^2\n",
    "A = [1 0; 0 2]\n",
    "b = [0, 0]\n",
    "x = [2, 1]\n",
    "grad_method_exact_ls(A, b, x)"
   ]
  },
  {
   "cell_type": "code",
   "execution_count": 29,
   "metadata": {},
   "outputs": [],
   "source": [
    "function grad_method_const_step(A, b, x0, α;\n",
    "        maxk=1000, verbose=true, ϵ=1e-6)\n",
    "    x = copy(x0)\n",
    "    ∇f = A*x + b\n",
    "    k = 0\n",
    "    while norm(∇f) > ϵ && k < maxk\n",
    "        x = x - α*∇f\n",
    "        ∇f = A*x + b\n",
    "        f = (1/2)x'*A*x + b'x\n",
    "        verbose && @printf \"it = %3d  |∇f| = %8.2e  f = %8.2e\\n\" k norm(∇f) f\n",
    "        k += 1\n",
    "    end\n",
    "    return k, norm(∇f)\n",
    "end;"
   ]
  },
  {
   "cell_type": "code",
   "execution_count": 28,
   "metadata": {},
   "outputs": [
    {
     "name": "stdout",
     "output_type": "stream",
     "text": [
      "it =   0  |∇f| = 2.41e+00  f = 2.26e+00\n",
      "it =   1  |∇f| = 2.06e+00  f = 1.72e+00\n",
      "it =   2  |∇f| = 1.78e+00  f = 1.33e+00\n",
      "it =   3  |∇f| = 1.55e+00  f = 1.03e+00\n",
      "it =   4  |∇f| = 1.35e+00  f = 8.05e-01\n",
      "it =   5  |∇f| = 1.19e+00  f = 6.34e-01\n",
      "it =   6  |∇f| = 1.04e+00  f = 5.02e-01\n",
      "it =   7  |∇f| = 9.24e-01  f = 3.99e-01\n",
      "it =   8  |∇f| = 8.20e-01  f = 3.18e-01\n",
      "it =   9  |∇f| = 7.30e-01  f = 2.55e-01\n",
      "it =  10  |∇f| = 6.51e-01  f = 2.04e-01\n",
      "it =  11  |∇f| = 5.81e-01  f = 1.64e-01\n",
      "it =  12  |∇f| = 5.20e-01  f = 1.32e-01\n",
      "it =  13  |∇f| = 4.66e-01  f = 1.07e-01\n",
      "it =  14  |∇f| = 4.18e-01  f = 8.60e-02\n",
      "it =  15  |∇f| = 3.75e-01  f = 6.95e-02\n",
      "it =  16  |∇f| = 3.37e-01  f = 5.61e-02\n",
      "it =  17  |∇f| = 3.02e-01  f = 4.54e-02\n",
      "it =  18  |∇f| = 2.72e-01  f = 3.67e-02\n",
      "it =  19  |∇f| = 2.44e-01  f = 2.97e-02\n",
      "it =  20  |∇f| = 2.20e-01  f = 2.40e-02\n",
      "it =  21  |∇f| = 1.98e-01  f = 1.94e-02\n",
      "it =  22  |∇f| = 1.78e-01  f = 1.57e-02\n",
      "it =  23  |∇f| = 1.60e-01  f = 1.27e-02\n",
      "it =  24  |∇f| = 1.44e-01  f = 1.03e-02\n",
      "it =  25  |∇f| = 1.29e-01  f = 8.36e-03\n",
      "it =  26  |∇f| = 1.16e-01  f = 6.77e-03\n",
      "it =  27  |∇f| = 1.05e-01  f = 5.48e-03\n",
      "it =  28  |∇f| = 9.43e-02  f = 4.44e-03\n",
      "it =  29  |∇f| = 8.48e-02  f = 3.60e-03\n",
      "it =  30  |∇f| = 7.63e-02  f = 2.91e-03\n",
      "it =  31  |∇f| = 6.87e-02  f = 2.36e-03\n",
      "it =  32  |∇f| = 6.18e-02  f = 1.91e-03\n",
      "it =  33  |∇f| = 5.56e-02  f = 1.55e-03\n",
      "it =  34  |∇f| = 5.01e-02  f = 1.25e-03\n",
      "it =  35  |∇f| = 4.51e-02  f = 1.02e-03\n",
      "it =  36  |∇f| = 4.06e-02  f = 8.22e-04\n",
      "it =  37  |∇f| = 3.65e-02  f = 6.66e-04\n",
      "it =  38  |∇f| = 3.28e-02  f = 5.39e-04\n",
      "it =  39  |∇f| = 2.96e-02  f = 4.37e-04\n",
      "it =  40  |∇f| = 2.66e-02  f = 3.54e-04\n",
      "it =  41  |∇f| = 2.39e-02  f = 2.87e-04\n",
      "it =  42  |∇f| = 2.16e-02  f = 2.32e-04\n",
      "it =  43  |∇f| = 1.94e-02  f = 1.88e-04\n",
      "it =  44  |∇f| = 1.75e-02  f = 1.52e-04\n",
      "it =  45  |∇f| = 1.57e-02  f = 1.23e-04\n",
      "it =  46  |∇f| = 1.41e-02  f = 1.00e-04\n",
      "it =  47  |∇f| = 1.27e-02  f = 8.10e-05\n",
      "it =  48  |∇f| = 1.15e-02  f = 6.56e-05\n",
      "it =  49  |∇f| = 1.03e-02  f = 5.31e-05\n",
      "it =  50  |∇f| = 9.28e-03  f = 4.30e-05\n",
      "it =  51  |∇f| = 8.35e-03  f = 3.49e-05\n",
      "it =  52  |∇f| = 7.51e-03  f = 2.82e-05\n",
      "it =  53  |∇f| = 6.76e-03  f = 2.29e-05\n",
      "it =  54  |∇f| = 6.09e-03  f = 1.85e-05\n",
      "it =  55  |∇f| = 5.48e-03  f = 1.50e-05\n",
      "it =  56  |∇f| = 4.93e-03  f = 1.22e-05\n",
      "it =  57  |∇f| = 4.44e-03  f = 9.84e-06\n",
      "it =  58  |∇f| = 3.99e-03  f = 7.97e-06\n",
      "it =  59  |∇f| = 3.59e-03  f = 6.46e-06\n",
      "it =  60  |∇f| = 3.23e-03  f = 5.23e-06\n",
      "it =  61  |∇f| = 2.91e-03  f = 4.24e-06\n",
      "it =  62  |∇f| = 2.62e-03  f = 3.43e-06\n",
      "it =  63  |∇f| = 2.36e-03  f = 2.78e-06\n",
      "it =  64  |∇f| = 2.12e-03  f = 2.25e-06\n",
      "it =  65  |∇f| = 1.91e-03  f = 1.82e-06\n",
      "it =  66  |∇f| = 1.72e-03  f = 1.48e-06\n",
      "it =  67  |∇f| = 1.55e-03  f = 1.20e-06\n",
      "it =  68  |∇f| = 1.39e-03  f = 9.69e-07\n",
      "it =  69  |∇f| = 1.25e-03  f = 7.85e-07\n",
      "it =  70  |∇f| = 1.13e-03  f = 6.36e-07\n",
      "it =  71  |∇f| = 1.02e-03  f = 5.15e-07\n",
      "it =  72  |∇f| = 9.14e-04  f = 4.17e-07\n",
      "it =  73  |∇f| = 8.22e-04  f = 3.38e-07\n",
      "it =  74  |∇f| = 7.40e-04  f = 2.74e-07\n",
      "it =  75  |∇f| = 6.66e-04  f = 2.22e-07\n",
      "it =  76  |∇f| = 5.99e-04  f = 1.80e-07\n",
      "it =  77  |∇f| = 5.39e-04  f = 1.45e-07\n",
      "it =  78  |∇f| = 4.85e-04  f = 1.18e-07\n",
      "it =  79  |∇f| = 4.37e-04  f = 9.55e-08\n",
      "it =  80  |∇f| = 3.93e-04  f = 7.73e-08\n",
      "it =  81  |∇f| = 3.54e-04  f = 6.26e-08\n",
      "it =  82  |∇f| = 3.19e-04  f = 5.07e-08\n",
      "it =  83  |∇f| = 2.87e-04  f = 4.11e-08\n",
      "it =  84  |∇f| = 2.58e-04  f = 3.33e-08\n",
      "it =  85  |∇f| = 2.32e-04  f = 2.70e-08\n",
      "it =  86  |∇f| = 2.09e-04  f = 2.18e-08\n",
      "it =  87  |∇f| = 1.88e-04  f = 1.77e-08\n",
      "it =  88  |∇f| = 1.69e-04  f = 1.43e-08\n",
      "it =  89  |∇f| = 1.52e-04  f = 1.16e-08\n",
      "it =  90  |∇f| = 1.37e-04  f = 9.40e-09\n",
      "it =  91  |∇f| = 1.23e-04  f = 7.61e-09\n",
      "it =  92  |∇f| = 1.11e-04  f = 6.17e-09\n",
      "it =  93  |∇f| = 1.00e-04  f = 5.00e-09\n",
      "it =  94  |∇f| = 9.00e-05  f = 4.05e-09\n",
      "it =  95  |∇f| = 8.10e-05  f = 3.28e-09\n",
      "it =  96  |∇f| = 7.29e-05  f = 2.66e-09\n",
      "it =  97  |∇f| = 6.56e-05  f = 2.15e-09\n",
      "it =  98  |∇f| = 5.90e-05  f = 1.74e-09\n",
      "it =  99  |∇f| = 5.31e-05  f = 1.41e-09\n",
      "it = 100  |∇f| = 4.78e-05  f = 1.14e-09\n",
      "it = 101  |∇f| = 4.30e-05  f = 9.26e-10\n",
      "it = 102  |∇f| = 3.87e-05  f = 7.50e-10\n",
      "it = 103  |∇f| = 3.49e-05  f = 6.07e-10\n",
      "it = 104  |∇f| = 3.14e-05  f = 4.92e-10\n",
      "it = 105  |∇f| = 2.82e-05  f = 3.99e-10\n",
      "it = 106  |∇f| = 2.54e-05  f = 3.23e-10\n",
      "it = 107  |∇f| = 2.29e-05  f = 2.61e-10\n",
      "it = 108  |∇f| = 2.06e-05  f = 2.12e-10\n",
      "it = 109  |∇f| = 1.85e-05  f = 1.72e-10\n",
      "it = 110  |∇f| = 1.67e-05  f = 1.39e-10\n",
      "it = 111  |∇f| = 1.50e-05  f = 1.13e-10\n",
      "it = 112  |∇f| = 1.35e-05  f = 9.12e-11\n",
      "it = 113  |∇f| = 1.22e-05  f = 7.38e-11\n",
      "it = 114  |∇f| = 1.09e-05  f = 5.98e-11\n",
      "it = 115  |∇f| = 9.84e-06  f = 4.84e-11\n",
      "it = 116  |∇f| = 8.86e-06  f = 3.92e-11\n",
      "it = 117  |∇f| = 7.97e-06  f = 3.18e-11\n",
      "it = 118  |∇f| = 7.18e-06  f = 2.57e-11\n",
      "it = 119  |∇f| = 6.46e-06  f = 2.09e-11\n",
      "it = 120  |∇f| = 5.81e-06  f = 1.69e-11\n",
      "it = 121  |∇f| = 5.23e-06  f = 1.37e-11\n",
      "it = 122  |∇f| = 4.71e-06  f = 1.11e-11\n",
      "it = 123  |∇f| = 4.24e-06  f = 8.98e-12\n",
      "it = 124  |∇f| = 3.81e-06  f = 7.27e-12\n",
      "it = 125  |∇f| = 3.43e-06  f = 5.89e-12\n",
      "it = 126  |∇f| = 3.09e-06  f = 4.77e-12\n",
      "it = 127  |∇f| = 2.78e-06  f = 3.86e-12\n",
      "it = 128  |∇f| = 2.50e-06  f = 3.13e-12\n",
      "it = 129  |∇f| = 2.25e-06  f = 2.54e-12\n",
      "it = 130  |∇f| = 2.03e-06  f = 2.05e-12\n",
      "it = 131  |∇f| = 1.82e-06  f = 1.66e-12\n",
      "it = 132  |∇f| = 1.64e-06  f = 1.35e-12\n",
      "it = 133  |∇f| = 1.48e-06  f = 1.09e-12\n",
      "it = 134  |∇f| = 1.33e-06  f = 8.84e-13\n",
      "it = 135  |∇f| = 1.20e-06  f = 7.16e-13\n",
      "it = 136  |∇f| = 1.08e-06  f = 5.80e-13\n",
      "it = 137  |∇f| = 9.69e-07  f = 4.70e-13\n"
     ]
    },
    {
     "data": {
      "text/plain": [
       "(138, 9.69385006711562e-7)"
      ]
     },
     "execution_count": 28,
     "metadata": {},
     "output_type": "execute_result"
    }
   ],
   "source": [
    "α = 0.1\n",
    "grad_method_const_step(A, b, x, α)"
   ]
  },
  {
   "cell_type": "code",
   "execution_count": 31,
   "metadata": {},
   "outputs": [
    {
     "name": "stdout",
     "output_type": "stream",
     "text": [
      "0.10   138    9.69e-07\n",
      "0.20    66    8.03e-07\n",
      "0.30    41    8.91e-07\n",
      "0.40    29    7.37e-07\n",
      "0.50    21    9.54e-07\n",
      "0.60    16    8.59e-07\n",
      "0.70    16    8.59e-07\n",
      "0.80    29    7.37e-07\n",
      "0.90    66    8.03e-07\n",
      "1.00  1000    2.00e+00\n"
     ]
    }
   ],
   "source": [
    "for α in 0.1:.1:1.0\n",
    "    k, opt = grad_method_const_step(A, b, x, α, verbose=false)\n",
    "    @printf(\"%3.2f  %4d  %10.2e\\n\", α, k, opt)\n",
    "end"
   ]
  },
  {
   "cell_type": "code",
   "execution_count": 33,
   "metadata": {},
   "outputs": [
    {
     "data": {
      "text/plain": [
       "2-element Array{Float64,1}:\n",
       " 1.0\n",
       " 2.0"
      ]
     },
     "execution_count": 33,
     "metadata": {},
     "output_type": "execute_result"
    }
   ],
   "source": [
    "eigvals(A)"
   ]
  },
  {
   "cell_type": "code",
   "execution_count": null,
   "metadata": {},
   "outputs": [],
   "source": []
  }
 ],
 "metadata": {
  "kernelspec": {
   "display_name": "Julia 1.3.1",
   "language": "julia",
   "name": "julia-1.3"
  },
  "language_info": {
   "file_extension": ".jl",
   "mimetype": "application/julia",
   "name": "julia",
   "version": "1.3.1"
  }
 },
 "nbformat": 4,
 "nbformat_minor": 2
}
