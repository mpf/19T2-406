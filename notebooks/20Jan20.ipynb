{
 "cells": [
  {
   "cell_type": "code",
   "execution_count": 15,
   "metadata": {},
   "outputs": [
    {
     "data": {
      "text/plain": [
       "Plots.PlotlyBackend()"
      ]
     },
     "execution_count": 15,
     "metadata": {},
     "output_type": "execute_result"
    }
   ],
   "source": [
    "using Convex, ECOS, Plots\n",
    "plotly()"
   ]
  },
  {
   "cell_type": "code",
   "execution_count": 2,
   "metadata": {},
   "outputs": [
    {
     "name": "stdout",
     "output_type": "stream",
     "text": [
      "\n",
      "ECOS 2.0.5 - (C) embotech GmbH, Zurich Switzerland, 2012-15. Web: www.embotech.com/ECOS\n",
      "\n",
      "It     pcost       dcost      gap   pres   dres    k/t    mu     step   sigma     IR    |   BT\n",
      " 0  +0.000e+00  -9.809e+00  +3e+01  4e-01  4e-01  1e+00  3e+00    ---    ---    1  1  - |  -  - \n",
      " 1  -2.047e+00  -3.846e+00  +6e+00  7e-02  9e-02  5e-01  9e-01  0.7846  5e-02   1  2  2 |  0  0\n",
      " 2  -1.401e+00  -1.462e+00  +3e-01  3e-03  3e-03  3e-02  4e-02  0.9643  1e-02   1  1  1 |  0  0\n",
      " 3  -1.414e+00  -1.415e+00  +6e-03  6e-05  6e-05  5e-04  9e-04  0.9790  1e-04   1  1  1 |  0  0\n",
      " 4  -1.414e+00  -1.414e+00  +1e-04  1e-06  1e-06  1e-05  2e-05  0.9799  1e-04   1  1  1 |  0  0\n",
      " 5  -1.414e+00  -1.414e+00  +2e-06  2e-08  2e-08  2e-07  4e-07  0.9797  1e-04   2  1  1 |  0  0\n",
      " 6  -1.414e+00  -1.414e+00  +4e-08  3e-10  4e-10  3e-09  5e-09  0.9853  1e-04   2  1  1 |  0  0\n",
      " 7  -1.414e+00  -1.414e+00  +4e-10  8e-12  4e-12  3e-11  6e-11  0.9890  1e-04   2  1  1 |  0  0\n",
      "\n",
      "OPTIMAL (within feastol=7.6e-12, reltol=2.8e-10, abstol=4.0e-10).\n",
      "Runtime: 0.000143 seconds.\n",
      "\n"
     ]
    }
   ],
   "source": [
    "x = Variable()\n",
    "y = Variable()\n",
    "pr = minimize(x+y, sumsquares(x)+sumsquares(y)≤1)\n",
    "solve!(pr, ECOSSolver())"
   ]
  },
  {
   "cell_type": "code",
   "execution_count": 3,
   "metadata": {},
   "outputs": [
    {
     "data": {
      "text/plain": [
       "(-0.7071067811774348, -0.7071067811776733)"
      ]
     },
     "execution_count": 3,
     "metadata": {},
     "output_type": "execute_result"
    }
   ],
   "source": [
    "x.value, y.value"
   ]
  },
  {
   "cell_type": "code",
   "execution_count": 12,
   "metadata": {},
   "outputs": [
    {
     "data": {
      "text/plain": [
       "f (generic function with 1 method)"
      ]
     },
     "execution_count": 12,
     "metadata": {},
     "output_type": "execute_result"
    }
   ],
   "source": [
    "f(x,y) = (x+y)/(x^2+y^2+1)"
   ]
  },
  {
   "cell_type": "code",
   "execution_count": 16,
   "metadata": {},
   "outputs": [
    {
     "ename": "MethodError",
     "evalue": "MethodError: no method matching plotly_surface_data(::Plots.Series, ::Nothing)\nClosest candidates are:\n  plotly_surface_data(::Plots.Series, !Matched::AbstractArray{T,1} where T) at /Users/mpf/.julia/packages/Plots/qZHsp/src/backends/plotly.jl:422\n  plotly_surface_data(::Plots.Series, !Matched::AbstractArray{T,2} where T) at /Users/mpf/.julia/packages/Plots/qZHsp/src/backends/plotly.jl:423\n  plotly_surface_data(::Plots.Series, !Matched::Surface) at /Users/mpf/.julia/packages/Plots/qZHsp/src/backends/plotly.jl:424",
     "output_type": "error",
     "traceback": [
      "MethodError: no method matching plotly_surface_data(::Plots.Series, ::Nothing)\nClosest candidates are:\n  plotly_surface_data(::Plots.Series, !Matched::AbstractArray{T,1} where T) at /Users/mpf/.julia/packages/Plots/qZHsp/src/backends/plotly.jl:422\n  plotly_surface_data(::Plots.Series, !Matched::AbstractArray{T,2} where T) at /Users/mpf/.julia/packages/Plots/qZHsp/src/backends/plotly.jl:423\n  plotly_surface_data(::Plots.Series, !Matched::Surface) at /Users/mpf/.julia/packages/Plots/qZHsp/src/backends/plotly.jl:424",
      "",
      "Stacktrace:",
      " [1] plotly_data(::Plots.Series, ::Symbol, ::Nothing) at /Users/mpf/.julia/packages/Plots/qZHsp/src/backends/plotly.jl:412",
      " [2] iterate at ./none:0 [inlined]",
      " [3] indexed_iterate(::Base.Generator{Base.Iterators.Zip{Tuple{Tuple{Symbol,Symbol,Symbol},Tuple{Base.OneTo{Int64},Array{Float64,1},Nothing}}},Plots.var\"#383#384\"{Plots.Series}}, ::Int64, ::Tuple{Int64,Int64}) at ./tuple.jl:71",
      " [4] plotly_series(::Plots.Plot{Plots.PlotlyBackend}, ::Plots.Series) at /Users/mpf/.julia/packages/Plots/qZHsp/src/backends/plotly.jl:478",
      " [5] plotly_series(::Plots.Plot{Plots.PlotlyBackend}) at /Users/mpf/.julia/packages/Plots/qZHsp/src/backends/plotly.jl:795",
      " [6] plotly_series_json at /Users/mpf/.julia/packages/Plots/qZHsp/src/backends/plotly.jl:801 [inlined]",
      " [7] plotly_html_body(::Plots.Plot{Plots.PlotlyBackend}, ::Nothing) at /Users/mpf/.julia/packages/Plots/qZHsp/src/backends/plotly.jl:835",
      " [8] plotly_html_body at /Users/mpf/.julia/packages/Plots/qZHsp/src/backends/plotly.jl:830 [inlined]",
      " [9] html_body at /Users/mpf/.julia/packages/Plots/qZHsp/src/backends/plotly.jl:806 [inlined]",
      " [10] #standalone_html#400(::String, ::typeof(Plots.standalone_html), ::Plots.Plot{Plots.PlotlyBackend}) at /Users/mpf/.julia/packages/Plots/qZHsp/src/backends/web.jl:7",
      " [11] standalone_html(::Plots.Plot{Plots.PlotlyBackend}) at /Users/mpf/.julia/packages/Plots/qZHsp/src/backends/web.jl:7",
      " [12] _show at /Users/mpf/.julia/packages/Plots/qZHsp/src/backends/plotly.jl:869 [inlined]",
      " [13] show(::Base.GenericIOBuffer{Array{UInt8,1}}, ::MIME{Symbol(\"text/html\")}, ::Plots.Plot{Plots.PlotlyBackend}) at /Users/mpf/.julia/packages/Plots/qZHsp/src/output.jl:199",
      " [14] #sprint#339(::Nothing, ::Int64, ::typeof(sprint), ::Function, ::MIME{Symbol(\"text/html\")}, ::Vararg{Any,N} where N) at ./strings/io.jl:105",
      " [15] sprint(::Function, ::MIME{Symbol(\"text/html\")}, ::Vararg{Any,N} where N) at ./strings/io.jl:101",
      " [16] _ijulia_display_dict(::Plots.Plot{Plots.PlotlyBackend}) at /Users/mpf/.julia/packages/Plots/qZHsp/src/ijulia.jl:56",
      " [17] display_dict(::Plots.Plot{Plots.PlotlyBackend}) at /Users/mpf/.julia/packages/Plots/qZHsp/src/init.jl:83",
      " [18] #invokelatest#1 at ./essentials.jl:709 [inlined]",
      " [19] invokelatest at ./essentials.jl:708 [inlined]",
      " [20] execute_request(::ZMQ.Socket, ::IJulia.Msg) at /Users/mpf/.julia/packages/IJulia/F1GUo/src/execute_request.jl:112",
      " [21] #invokelatest#1 at ./essentials.jl:709 [inlined]",
      " [22] invokelatest at ./essentials.jl:708 [inlined]",
      " [23] eventloop(::ZMQ.Socket) at /Users/mpf/.julia/packages/IJulia/F1GUo/src/eventloop.jl:8",
      " [24] (::IJulia.var\"#15#18\")() at ./task.jl:333"
     ]
    }
   ],
   "source": [
    "x = (LinRange(-3,3,100))\n",
    "y = (LinRange(-3,3,100))\n",
    "contour(f.(x,y))"
   ]
  },
  {
   "cell_type": "code",
   "execution_count": 20,
   "metadata": {},
   "outputs": [
    {
     "name": "stdout",
     "output_type": "stream",
     "text": [
      "search: \u001b[0m\u001b[1mL\u001b[22m\u001b[0m\u001b[1mi\u001b[22m\u001b[0m\u001b[1mn\u001b[22m\u001b[0m\u001b[1mR\u001b[22m\u001b[0m\u001b[1ma\u001b[22m\u001b[0m\u001b[1mn\u001b[22m\u001b[0m\u001b[1mg\u001b[22m\u001b[0m\u001b[1me\u001b[22m\n",
      "\n"
     ]
    },
    {
     "data": {
      "text/latex": [
       "\\begin{verbatim}\n",
       "LinRange{T}\n",
       "\\end{verbatim}\n",
       "A range with \\texttt{len} linearly spaced elements between its \\texttt{start} and \\texttt{stop}. The size of the spacing is controlled by \\texttt{len}, which must be an \\texttt{Int}.\n",
       "\n",
       "\\section{Examples}\n",
       "\\begin{verbatim}\n",
       "julia> LinRange(1.5, 5.5, 9)\n",
       "9-element LinRange{Float64}:\n",
       " 1.5,2.0,2.5,3.0,3.5,4.0,4.5,5.0,5.5\n",
       "\\end{verbatim}\n"
      ],
      "text/markdown": [
       "```\n",
       "LinRange{T}\n",
       "```\n",
       "\n",
       "A range with `len` linearly spaced elements between its `start` and `stop`. The size of the spacing is controlled by `len`, which must be an `Int`.\n",
       "\n",
       "# Examples\n",
       "\n",
       "```jldoctest\n",
       "julia> LinRange(1.5, 5.5, 9)\n",
       "9-element LinRange{Float64}:\n",
       " 1.5,2.0,2.5,3.0,3.5,4.0,4.5,5.0,5.5\n",
       "```\n"
      ],
      "text/plain": [
       "  \u001b[39mLinRange\u001b[0m\u001b[39m{\u001b[0m\u001b[39mT\u001b[0m\u001b[39m}\u001b[0m\u001b[39m\u001b[0m\n",
       "\n",
       "\n",
       "  A range with \u001b[36mlen\u001b[39m linearly spaced elements between its \u001b[36mstart\u001b[39m and \u001b[36mstop\u001b[39m. The\n",
       "  size of the spacing is controlled by \u001b[36mlen\u001b[39m, which must be an \u001b[36mInt\u001b[39m.\n",
       "\n",
       "\u001b[1m  Examples\u001b[22m\n",
       "\u001b[1m  ≡≡≡≡≡≡≡≡≡≡\u001b[22m\n",
       "\n",
       "  \u001b[31;1mjulia> \u001b[0m\u001b[38;5;81mLinRange\u001b[0m(\u001b[0m\u001b[38;5;141m1.5\u001b[0m\u001b[39m,\u001b[0m \u001b[0m\u001b[38;5;141m5.5\u001b[0m\u001b[39m,\u001b[0m \u001b[0m\u001b[38;5;141m9\u001b[0m\u001b[39m)\u001b[0m\n",
       "  \u001b[0m\u001b[39m\u001b[0m9-element LinRange{Float64}:\n",
       "   1.5,2.0,2.5,3.0,3.5,4.0,4.5,5.0,5.5\n"
      ]
     },
     "execution_count": 20,
     "metadata": {},
     "output_type": "execute_result"
    }
   ],
   "source": [
    "?LinRange"
   ]
  },
  {
   "cell_type": "code",
   "execution_count": null,
   "metadata": {},
   "outputs": [],
   "source": []
  }
 ],
 "metadata": {
  "@webio": {
   "lastCommId": null,
   "lastKernelId": null
  },
  "kernelspec": {
   "display_name": "Julia 1.3.1",
   "language": "julia",
   "name": "julia-1.3"
  },
  "language_info": {
   "file_extension": ".jl",
   "mimetype": "application/julia",
   "name": "julia",
   "version": "1.3.1"
  }
 },
 "nbformat": 4,
 "nbformat_minor": 2
}
