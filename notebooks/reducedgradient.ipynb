{
 "cells": [
  {
   "cell_type": "markdown",
   "metadata": {},
   "source": [
    "# Linearly-Constrained Optimization"
   ]
  },
  {
   "cell_type": "code",
   "execution_count": null,
   "metadata": {},
   "outputs": [],
   "source": [
    "using JuMP, Ipopt"
   ]
  },
  {
   "cell_type": "code",
   "execution_count": null,
   "metadata": {},
   "outputs": [],
   "source": [
    "m = Model(Ipopt.Optimizer)"
   ]
  },
  {
   "cell_type": "markdown",
   "metadata": {},
   "source": [
    "# Reduced gradient method"
   ]
  },
  {
   "cell_type": "code",
   "execution_count": null,
   "metadata": {},
   "outputs": [],
   "source": [
    "using Optim, ForwardDiff, LinearAlgebra"
   ]
  },
  {
   "cell_type": "markdown",
   "metadata": {},
   "source": [
    "Define the 2-variable Rosenbrock test function\n",
    "$$\n",
    "f(x) = (1-x_1)^2 + 100(x_2-x_1^2)^2.\n",
    "$$"
   ]
  },
  {
   "cell_type": "code",
   "execution_count": null,
   "metadata": {},
   "outputs": [],
   "source": [
    "f(x) = (1.0 - x[1])^2 + 100.0 * (x[2] - x[1]^2)^2"
   ]
  },
  {
   "cell_type": "markdown",
   "metadata": {},
   "source": [
    "Compute its gradient using the automatic differentiation package `ForwardDiff`."
   ]
  },
  {
   "cell_type": "markdown",
   "metadata": {},
   "source": [
    "g(x) = ForwardDiff.gradient(f,x)\n",
    "H(x) = ForwardDiff.hessian(f,x);"
   ]
  },
  {
   "cell_type": "code",
   "execution_count": 119,
   "metadata": {},
   "outputs": [],
   "source": [
    "A = randn(3,5); b = randn(3,1);"
   ]
  },
  {
   "cell_type": "code",
   "execution_count": 120,
   "metadata": {},
   "outputs": [
    {
     "data": {
      "text/plain": [
       "5×1 Array{Float64,2}:\n",
       " -0.3225623845823143 \n",
       " -0.06240229423897535\n",
       "  0.06843606446155104\n",
       " -0.11259893589719046\n",
       " -0.3044037403019893 "
      ]
     },
     "execution_count": 120,
     "metadata": {},
     "output_type": "execute_result"
    }
   ],
   "source": [
    "x = A \\ b"
   ]
  },
  {
   "cell_type": "code",
   "execution_count": 121,
   "metadata": {},
   "outputs": [
    {
     "data": {
      "text/plain": [
       "4.002966042486721e-16"
      ]
     },
     "execution_count": 121,
     "metadata": {},
     "output_type": "execute_result"
    }
   ],
   "source": [
    "norm(A*x-b)"
   ]
  },
  {
   "cell_type": "code",
   "execution_count": 122,
   "metadata": {},
   "outputs": [
    {
     "data": {
      "text/plain": [
       "3×5 Array{Float64,2}:\n",
       "  1.11248   0.250556  -1.0839    -0.94423   0.943281\n",
       " -1.68262   0.951428  -0.217432  -1.93867  -0.828236\n",
       "  1.57182  -2.92821   -0.543615   1.37854  -0.694797"
      ]
     },
     "execution_count": 122,
     "metadata": {},
     "output_type": "execute_result"
    }
   ],
   "source": [
    "A"
   ]
  },
  {
   "cell_type": "code",
   "execution_count": 125,
   "metadata": {},
   "outputs": [
    {
     "data": {
      "text/plain": [
       "LinearAlgebra.QRCompactWY{Float64,Array{Float64,2}}\n",
       "Q factor:\n",
       "5×5 LinearAlgebra.QRCompactWYQ{Float64,Array{Float64,2}}:\n",
       " -0.539215   0.5558     0.0835638  -0.100454  -0.619079\n",
       " -0.121444  -0.339426  -0.7686      0.382427  -0.364755\n",
       "  0.525361   0.106926  -0.345744   -0.712294  -0.292681\n",
       "  0.457665   0.70403   -0.200567    0.488359   0.127128\n",
       " -0.457205   0.262267  -0.492449   -0.312733   0.617958\n",
       "R factor:\n",
       "3×3 Array{Float64,2}:\n",
       " -2.06315   0.168931  0.171044\n",
       "  0.0      -2.86349   2.59772 \n",
       "  0.0       0.0       2.63559 "
      ]
     },
     "execution_count": 125,
     "metadata": {},
     "output_type": "execute_result"
    }
   ],
   "source": [
    "Q,R = qr(A')"
   ]
  },
  {
   "cell_type": "code",
   "execution_count": 126,
   "metadata": {},
   "outputs": [
    {
     "data": {
      "text/plain": [
       "5×5 Array{Float64,2}:\n",
       "  1.0          -2.77556e-17   8.32667e-17   1.38778e-16  -2.22045e-16\n",
       " -2.77556e-17   1.0           8.32667e-17   2.01228e-16   2.77556e-17\n",
       "  8.32667e-17   8.32667e-17   1.0          -1.17961e-16   8.32667e-17\n",
       "  1.38778e-16   2.01228e-16  -1.17961e-16   1.0           5.55112e-17\n",
       " -2.22045e-16   2.77556e-17   8.32667e-17   5.55112e-17   1.0        "
      ]
     },
     "execution_count": 126,
     "metadata": {},
     "output_type": "execute_result"
    }
   ],
   "source": [
    "Q*Q'"
   ]
  },
  {
   "cell_type": "code",
   "execution_count": 127,
   "metadata": {},
   "outputs": [
    {
     "data": {
      "text/plain": [
       "5×3 Adjoint{Float64,Array{Float64,2}}:\n",
       "  1.11248   -1.68262    1.57182 \n",
       "  0.250556   0.951428  -2.92821 \n",
       " -1.0839    -0.217432  -0.543615\n",
       " -0.94423   -1.93867    1.37854 \n",
       "  0.943281  -0.828236  -0.694797"
      ]
     },
     "execution_count": 127,
     "metadata": {},
     "output_type": "execute_result"
    }
   ],
   "source": [
    "A'"
   ]
  },
  {
   "cell_type": "code",
   "execution_count": 128,
   "metadata": {},
   "outputs": [
    {
     "data": {
      "text/plain": [
       "5×5 LinearAlgebra.QRCompactWYQ{Float64,Array{Float64,2}}:\n",
       " -0.539215   0.5558     0.0835638  -0.100454  -0.619079\n",
       " -0.121444  -0.339426  -0.7686      0.382427  -0.364755\n",
       "  0.525361   0.106926  -0.345744   -0.712294  -0.292681\n",
       "  0.457665   0.70403   -0.200567    0.488359   0.127128\n",
       " -0.457205   0.262267  -0.492449   -0.312733   0.617958"
      ]
     },
     "execution_count": 128,
     "metadata": {},
     "output_type": "execute_result"
    }
   ],
   "source": [
    "Q"
   ]
  },
  {
   "cell_type": "code",
   "execution_count": 129,
   "metadata": {},
   "outputs": [],
   "source": [
    "Z = Q[:,4:5];"
   ]
  },
  {
   "cell_type": "code",
   "execution_count": 130,
   "metadata": {},
   "outputs": [
    {
     "data": {
      "text/plain": [
       "3×2 Array{Float64,2}:\n",
       "  1.41312e-16   2.51381e-16\n",
       " -1.09068e-16  -4.47971e-17\n",
       " -2.10448e-16  -1.67782e-16"
      ]
     },
     "execution_count": 130,
     "metadata": {},
     "output_type": "execute_result"
    }
   ],
   "source": [
    "A*Z"
   ]
  },
  {
   "cell_type": "code",
   "execution_count": null,
   "metadata": {},
   "outputs": [],
   "source": []
  }
 ],
 "metadata": {
  "kernelspec": {
   "display_name": "Julia 1.3.1",
   "language": "julia",
   "name": "julia-1.3"
  },
  "language_info": {
   "file_extension": ".jl",
   "mimetype": "application/julia",
   "name": "julia",
   "version": "1.3.1"
  }
 },
 "nbformat": 4,
 "nbformat_minor": 2
}
